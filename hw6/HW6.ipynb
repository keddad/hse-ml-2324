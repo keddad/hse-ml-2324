{
 "cells": [
  {
   "cell_type": "markdown",
   "metadata": {
    "id": "LEx3M_MjizK3"
   },
   "source": [
    "# 👀 WARNING 🐈\n",
    "\n",
    "\n",
    "### ⚠️ Important Setup Instructions\n",
    "\n",
    "Before you begin this homework, please note that all tasks were tested in Google Colab. It's crucial to follow the setup steps below to ensure that your environment is configured correctly. You will require a GPU for some of the tasks, so please make sure to adjust your Colab settings accordingly.\n",
    "\n",
    "#### Setup Steps:\n",
    "\n",
    "1. Use a GPU runtime to accelerate the training process of the CNN and proper compile:\n",
    "   - In Google Colab, click on ‘Runtime’.\n",
    "   - Select ‘Change runtime type’.\n",
    "   - Choose ‘GPU’ from the hardware accelerator dropdown menu.\n",
    "2. Install necessary libraries and dependencies as outlined in the provided code snippets.\n",
    "3. Execute all code cells in the order they are presented to avoid dependency issues.\n",
    "\n",
    "#### Installation Commands:"
   ]
  },
  {
   "cell_type": "code",
   "execution_count": 6,
   "metadata": {
    "colab": {
     "base_uri": "https://localhost:8080/"
    },
    "id": "os09aqKPliMb",
    "outputId": "b039c3e5-854f-4bd9-a2a1-7efb2c386f42"
   },
   "outputs": [],
   "source": [
    "!export LD_LIBRARY_PATH=\"/usr/lib64-nvidia\"\n",
    "!export LIBRARY_PATH=\"/usr/local/cuda/lib64/stubs\"\n",
    "!ldconfig \"/usr/lib64-nvidia\""
   ]
  },
  {
   "cell_type": "code",
   "execution_count": 2,
   "metadata": {
    "colab": {
     "base_uri": "https://localhost:8080/"
    },
    "id": "UhIA-h5n5n04",
    "outputId": "837eb3e2-da48-4b62-b7c5-e27786eea3a2"
   },
   "outputs": [],
   "source": [
    "!pip install tensorrt torch_tensorrt onnx onnxruntime maturin"
   ]
  },
  {
   "cell_type": "code",
   "execution_count": 3,
   "metadata": {
    "colab": {
     "base_uri": "https://localhost:8080/"
    },
    "id": "jpHw8JdPENo4",
    "outputId": "0c8bab7c-12ca-4e1c-cdb5-27c57e947c13"
   },
   "outputs": [],
   "source": [
    "!curl --proto '=https' --tlsv1.2 -sSf https://sh.rustup.rs | sh -s -- -y"
   ]
  },
  {
   "cell_type": "code",
   "execution_count": 4,
   "metadata": {
    "id": "_4cwr9FYFBH-"
   },
   "outputs": [],
   "source": [
    "import os\n",
    "os.environ['PATH'] += \":/root/.cargo/bin\""
   ]
  },
  {
   "cell_type": "code",
   "execution_count": 1,
   "metadata": {
    "colab": {
     "base_uri": "https://localhost:8080/"
    },
    "id": "XBJjzFHIFQkj",
    "outputId": "1e6b4db1-343d-4d7c-d70b-8c8423beddb8"
   },
   "outputs": [
    {
     "name": "stdout",
     "output_type": "stream",
     "text": [
      "cargo 1.74.0 (ecb9851af 2023-10-18)\r\n"
     ]
    }
   ],
   "source": [
    "!cargo --version"
   ]
  },
  {
   "cell_type": "markdown",
   "metadata": {
    "id": "r7CbAqtMlZtL"
   },
   "source": [
    "# HSE 2023: Mathematical Methods for Data Analysis\n",
    "\n",
    "# Homework 6 (Bonus)\n",
    "\n",
    "**Author: Alexander Kalashnikov**\n",
    "\n",
    "## Introduction\n",
    "Welcome to an exciting journey through the realms of machine learning and system integration, where we will tackle a fascinating challenge: building a Convolutional Neural Network (CNN) designed to recognize time from images of digital clocks. This task not only covers the design and training of neural networks but also extends into the world of production-level deployment. We'll dive into converting a trained model into various runtimes, and you'll get hands-on experience with implementing model inference in Rust—a language renowned for its performance and safety.\n",
    "\n",
    "<img src=\"./images/1.png\">\n",
    "\n",
    "---\n",
    "\n",
    "<div align=\"center\"><b> Your mission is to train a model that can look at such images and tell us the time displayed. </b></div>\n",
    "\n",
    "---"
   ]
  },
  {
   "cell_type": "markdown",
   "metadata": {
    "id": "8kaN5zcloA3r"
   },
   "source": [
    "# Load data\n",
    "\n",
    "Let's begin by downloading the dataset required for this homework. The dataset contains the images that we will use to train our model. \n",
    "\n",
    "**Follow the commands below to download and extract the dataset into your working environment:**"
   ]
  },
  {
   "cell_type": "code",
   "execution_count": 6,
   "metadata": {
    "colab": {
     "base_uri": "https://localhost:8080/"
    },
    "id": "gmBGcsb0oCKP",
    "outputId": "d0d7ed31-f840-4b8a-aefc-322c04014767"
   },
   "outputs": [
    {
     "name": "stdout",
     "output_type": "stream",
     "text": [
      "/Users/aiukalashnikov/anaconda3/lib/python3.11/site-packages/gdown/cli.py:126: FutureWarning: Option `--id` was deprecated in version 4.3.1 and will be removed in 5.0. You don't need to pass it anymore to use a file ID.\n",
      "  warnings.warn(\n",
      "Downloading...\n",
      "From: https://drive.google.com/uc?id=1ZLKpoYcMVBVgZBq2jvB23zR4yHClVfUd\n",
      "To: /Users/aiukalashnikov/PycharmProjects/funny_rust/timer_dataset.zip\n",
      "100%|██████████████████████████████████████| 18.9M/18.9M [00:00<00:00, 32.9MB/s]\n",
      "Downloaded data into ./timer_dataset\n"
     ]
    }
   ],
   "source": [
    "!gdown --id 1ZLKpoYcMVBVgZBq2jvB23zR4yHClVfUd && unzip -q -o timer_dataset.zip\n",
    "!echo \"Downloaded data into ./timer_dataset\""
   ]
  },
  {
   "cell_type": "markdown",
   "metadata": {},
   "source": [
    "### Below are two utility functions for the start:"
   ]
  },
  {
   "cell_type": "code",
   "execution_count": 2,
   "metadata": {
    "id": "aKCPA-3ElS_k"
   },
   "outputs": [],
   "source": [
    "import cv2\n",
    "import numpy as np\n",
    "import matplotlib.pyplot as plt"
   ]
  },
  {
   "cell_type": "code",
   "execution_count": 3,
   "metadata": {
    "id": "h6qhQPcElXUC"
   },
   "outputs": [],
   "source": [
    "def read_image(image_path: str) -> np.ndarray:\n",
    "    \"\"\"\n",
    "    Reads an image from a specified file path and convert it to RGB format.\n",
    "\n",
    "    Args:\n",
    "        image_path (str): The path to the image file.\n",
    "\n",
    "    Returns:\n",
    "        np.ndarray: The image in RGB format.\n",
    "    \"\"\"\n",
    "    image = cv2.imread(image_path)\n",
    "    image = cv2.cvtColor(image, cv2.COLOR_BGR2RGB)\n",
    "    return image\n",
    "\n",
    "\n",
    "def visualize(**images) -> None:\n",
    "    \"\"\"\n",
    "    Plots images in one row.\n",
    "\n",
    "    Args:\n",
    "        **images: Variable length keyword arguments. Each key-value pair should be \n",
    "                  the name of the image and the image data respectively.\n",
    "\n",
    "    \"\"\"\n",
    "    n = len(images)\n",
    "\n",
    "    for i, (name, image) in enumerate(images.items()):\n",
    "        plt.subplot(1, n, i + 1)\n",
    "        plt.xticks([])\n",
    "        plt.yticks([])\n",
    "        plt.title(' '.join(name.split('_')).title())\n",
    "        plt.imshow(image)\n",
    "    plt.show()\n"
   ]
  },
  {
   "cell_type": "markdown",
   "metadata": {
    "id": "1fpTc3CwG-Jt"
   },
   "source": [
    "## [Task 1] Exploratory Data Analysis (EDA) - 0.5 Point\n",
    "\n",
    "### Objective:\n",
    "Perform an exploratory data analysis (EDA) on the provided dataset to understand its structure, contents, and the data you'll be working with.\n",
    "\n",
    "### Instructions:\n",
    "\n",
    "1. **Verify Dataset Integrity:**\n",
    "   - Check dataset structure.\n",
    "   - Check the number of files in the dataset.\n",
    "\n",
    "2. **Understand File Distribution:**\n",
    "   - List the first few image filenames to get a sense of the naming convention.\n",
    "   - Review the targets file to understand the association between images and their labels.\n",
    "\n",
    "3. **Read Targets:**\n",
    "   - Use pandas to read the targets file into a DataFrame.\n",
    "   - Ensure the DataFrame is correctly structured with columns for both the target and the filename.\n",
    "\n",
    "4. **Data Visualization:**\n",
    "   - Use the `read_image` function to read a sample image from the dataset.\n",
    "   - Visualize the sample image using the `visualize` function.\n",
    "   - Map this sample image to the corresponding target in targets DataFrame printing both.\n",
    "\n",
    "5. **Initial Data Insights:**\n",
    "   - Report the size of the dataset (number of images).\n",
    "   - Provide a brief summary of the target variable distribution."
   ]
  },
  {
   "cell_type": "code",
   "execution_count": null,
   "metadata": {},
   "outputs": [],
   "source": [
    "# ╰( ͡° ͜ʖ ͡° )つ──☆*:・ﾟ YOUR CODE HERE"
   ]
  },
  {
   "cell_type": "markdown",
   "metadata": {
    "id": "nieGs50xnglc"
   },
   "source": [
    "## [Task 2] Implement `create_train_val_splits` Function - 0.25 Points\n",
    "\n",
    "### Objective:\n",
    "Write a Python function `create_train_val_splits` to divide a dataset into training and validation sets and save the result as a JSON file.\n",
    "\n",
    "### Requirements:\n",
    "\n",
    "- Read image names from a markup file (`markup_path`).\n",
    "- Split data into training and validation sets using the `val_ratio`.\n",
    "- Save the splits in JSON format to the specified `output_path`."
   ]
  },
  {
   "cell_type": "code",
   "execution_count": 10,
   "metadata": {
    "id": "oP1OSEU3mw2u"
   },
   "outputs": [],
   "source": [
    "import json\n",
    "\n",
    "from sklearn.model_selection import train_test_split\n",
    "\n",
    "\n",
    "def create_train_val_splits(\n",
    "    markup_path: str,\n",
    "    output_path: str,\n",
    "    val_ratio: float = 0.2,\n",
    ") -> None:\n",
    "    \"\"\"\n",
    "    Creates training and validation splits from a markup file and save them as a JSON file.\n",
    "\n",
    "    This function reads a markup file containing image names, splits the images into\n",
    "    training and validation sets, and then saves these sets to a specified JSON file.\n",
    "\n",
    "    Args:\n",
    "        markup_path (str): Path to the markup file with image names.\n",
    "        output_path (str): Path where the JSON file with train-validation splits will be saved.\n",
    "        val_ratio (float, optional): The proportion of the dataset to include \n",
    "        in the validation split. Defaults to 0.2.\n",
    "    \"\"\"\n",
    "    # ╰( ͡° ͜ʖ ͡° )つ──☆*:・ﾟ YOUR CODE HERE\n",
    "\n",
    "\n",
    "markup_path = 'timer_dataset/targets.txt'\n",
    "output_path = 'timer_dataset/splits.json'\n",
    "create_train_val_splits(markup_path, output_path)"
   ]
  },
  {
   "cell_type": "markdown",
   "metadata": {
    "id": "Vhi7Kf-dnyho"
   },
   "source": [
    "## [Task 3] Image Preprocessing and Augmentation - 1 Point\n",
    "\n",
    "<img src=\"./images/2.png\" width=\"60%\">\n",
    "\n",
    "### Objective:\n",
    "Implement functions to apply image augmentations and preprocessing for the images normalization and unification."
   ]
  },
  {
   "cell_type": "markdown",
   "metadata": {},
   "source": [
    "### Part 1: Define Augmentation Functions\n",
    "\n",
    "\n",
    "- `get_training_augmentations(image_size: int) -> albu.Compose`: This function should construct a series of augmentation transforms for training images. You have the freedom to add any augmentations you find necessary to improve the training process. **However, ensure that every transformed image is resized to a square format with dimensions `image_size x image_size`.**\n",
    "\n",
    "\n",
    "- `get_validation_augmentations(image_size: int) -> albu.Compose`: This function will define a series of transformations for validation images. Validation transforms are typically less extensive than training transforms. They should normalize the image but should not include random transformations that would create variations in your validation data. Like the training augmentations, **all images should be resized to be square with the same width and height as specified by `image_size`.**\n",
    "\n",
    "Note that while you may introduce a variety of transformations for the training dataset to improve model robustness, all images, after augmentation, should maintain a square shape. This consistency is crucial for training stability and performance evaluation."
   ]
  },
  {
   "cell_type": "code",
   "execution_count": 11,
   "metadata": {
    "id": "S4p1_0KgnvuA"
   },
   "outputs": [],
   "source": [
    "from typing import Callable, Literal\n",
    "\n",
    "import albumentations as albu\n",
    "\n",
    "\n",
    "def get_training_augmentations(image_size: int) -> albu.Compose:\n",
    "    \"\"\"\n",
    "    Constructs augmentation transform for training images.\n",
    "\n",
    "    Returns:\n",
    "        albu.Compose: augmentation transform\n",
    "    \"\"\"\n",
    "    # ╰( ͡° ͜ʖ ͡° )つ──☆*:・ﾟ YOUR CODE HERE\n",
    "\n",
    "\n",
    "def get_validation_augmentations(image_size: int) -> albu.Compose:\n",
    "    \"\"\"\n",
    "    Constructs augmentation transform for validation images.\n",
    "\n",
    "    Returns:\n",
    "        albu.Compose: augmentation transform\n",
    "    \"\"\"\n",
    "    # ╰( ͡° ͜ʖ ͡° )つ──☆*:・ﾟ YOUR CODE HERE"
   ]
  },
  {
   "cell_type": "markdown",
   "metadata": {},
   "source": [
    "### Part 2: Implement `to_tensor` Function\n",
    "Implement the `to_tensor` function to reshape the input image to the required format for PyTorch models (**CxHxW** - channel first), which involves changing the order of dimensions and ensuring the data type is float32."
   ]
  },
  {
   "cell_type": "code",
   "execution_count": 12,
   "metadata": {
    "id": "eGsYwaUaKWUR"
   },
   "outputs": [],
   "source": [
    "def to_tensor(x: np.ndarray, **kwargs) -> np.ndarray:\n",
    "    \"\"\"\n",
    "    Transposes an image array to the required shape for pytorch.\n",
    "\n",
    "    Args:\n",
    "        x (np.ndarray): image array.\n",
    "\n",
    "    Returns:\n",
    "        np.ndarray: transposed image array\n",
    "    \"\"\"\n",
    "    # ╰( ͡° ͜ʖ ͡° )つ──☆*:・ﾟ YOUR CODE HERE"
   ]
  },
  {
   "cell_type": "markdown",
   "metadata": {},
   "source": [
    "### Part 3: Implement `normalize_img` Function\n",
    "Write the `normalize_img` function to apply mean and standard deviation normalization to the image data, which is a common preprocessing step to standardize input data for model training.\n",
    "\n",
    "**Use the mean and the standard deviation values for the ImageNet dataset. Do not forget about the image normalization by maximum pixel value.**"
   ]
  },
  {
   "cell_type": "code",
   "execution_count": 13,
   "metadata": {
    "id": "ZIA5IC22KYyn"
   },
   "outputs": [],
   "source": [
    "def normalize_img(img: np.ndarray, **kwargs) -> np.ndarray:\n",
    "    \"\"\"\n",
    "    Normalizes image data.\n",
    "\n",
    "    Args:\n",
    "        img (np.ndarray): image array.\n",
    "\n",
    "    Returns:\n",
    "        np.ndarray: normalized image array\n",
    "    \"\"\"\n",
    "    # ╰( ͡° ͜ʖ ͡° )つ──☆*:・ﾟ YOUR CODE HERE"
   ]
  },
  {
   "cell_type": "markdown",
   "metadata": {},
   "source": [
    "### Part 4: Construct Preprocessing Pipeline\n",
    "Combine the normalization and tensor transformation into a preprocessing pipeline with the `get_preprocessing` function, which should return an `albu.Compose` pipeline to be applied to image data before feeding it into the model."
   ]
  },
  {
   "cell_type": "code",
   "execution_count": 14,
   "metadata": {
    "id": "hqoKpfZeKaN9"
   },
   "outputs": [],
   "source": [
    "def get_preprocessing() -> albu.Compose:\n",
    "    \"\"\"\n",
    "    Constructs preprocessing transform.\n",
    "\n",
    "    Args:\n",
    "        preprocessing_fn (Callable): data normalization function.\n",
    "\n",
    "    Returns:\n",
    "        albu.Compose: preprocessing transform\n",
    "    \"\"\"\n",
    "    # ╰( ͡° ͜ʖ ͡° )つ──☆*:・ﾟ YOUR CODE HERE"
   ]
  },
  {
   "cell_type": "markdown",
   "metadata": {
    "id": "Bs9A8kgKn28C"
   },
   "source": [
    "## [Task 4] Custom Dataset Class Implementation - 1 Point\n",
    "\n",
    "### Description:\n",
    "Construct a `TimerDataset` class extending PyTorch's `Dataset` class, capable of loading, processing, and augmenting timer images for model training.\n",
    "\n",
    "### Steps:\n",
    "1. Initialize the dataset with paths for images, markup, and splits, specifying data kind (train/validation), and optional augmentation and preprocessing functions.\n",
    "2. Load dataset splits from a JSON file and image-label pairs from a markup file.\n",
    "3. Implement `one_hot_encode` to encode targets as OH vectors.\n",
    "4. Implement `__getitem__` to load and preprocess images, and apply one-hot encoding to labels."
   ]
  },
  {
   "cell_type": "code",
   "execution_count": 15,
   "metadata": {
    "id": "TpSIdGz-n0NC"
   },
   "outputs": [],
   "source": [
    "import json\n",
    "import random\n",
    "from pathlib import Path\n",
    "from typing import Callable, Literal\n",
    "\n",
    "import torch\n",
    "from torch.utils.data import Dataset\n",
    "from torchvision import transforms\n",
    "\n",
    "\n",
    "class TimerDataset(Dataset):\n",
    "    \"\"\"\n",
    "    Custom dataset class for loading and processing timer images.\n",
    "\n",
    "    This dataset class is designed to work with a specific format of markup file and\n",
    "    directory structure. It supports optional data augmentation and preprocessing.\n",
    "    Labels are one-hot encoded.\n",
    "\n",
    "    Args:\n",
    "        images_path (Path): Path to the directory containing images.\n",
    "        markup_path (Path): Path to the markup file containing image names and corresponding time labels.\n",
    "        splits_path (Path): Path to the JSON file containing train/validation splits.\n",
    "        kind (str): Type of dataset to load ('train' or 'validation').\n",
    "        augmentations (Callable, optional): A function/callable that applies data augmentation.\n",
    "        preprocessing (Callable, optional): A function/callable that applies preprocessing.\n",
    "\n",
    "    \"\"\"\n",
    "    def __init__(\n",
    "        self,\n",
    "        images_path: Path,\n",
    "        markup_path: Path,\n",
    "        splits_path: Path,\n",
    "        kind: Literal[\"train\", \"validation\"],\n",
    "        augmentations: Callable | None = None,\n",
    "        preprocessing: Callable | None = None,\n",
    "    ):\n",
    "        self.images_path = images_path\n",
    "        self.augmentation = augmentations\n",
    "        self.preprocessing = preprocessing\n",
    "\n",
    "        # Load splits\n",
    "        # ╰( ͡° ͜ʖ ͡° )つ──☆*:・ﾟ YOUR CODE HERE\n",
    "\n",
    "        # Load markup (image_name, (hours, minutes))\n",
    "        self.samples: list[tuple[str, tuple[int, int]]] = []\n",
    "        # ╰( ͡° ͜ʖ ͡° )つ──☆*:・ﾟ YOUR CODE HERE\n",
    "\n",
    "    def __len__(self):\n",
    "        return len(self.samples)\n",
    "\n",
    "    def one_hot_encode(self, time: tuple[int, int]) -> tuple[torch.Tensor, torch.Tensor]:\n",
    "        \"\"\"\n",
    "        One-hot encodes the given time.\n",
    "\n",
    "        Args:\n",
    "            time (tuple[int, int]): A tuple containing hours and minutes.\n",
    "\n",
    "        Returns:\n",
    "            tuple[torch.Tensor, torch.Tensor]: One-hot encoded hour and minute tensors.\n",
    "        \"\"\"\n",
    "        # ╰( ͡° ͜ʖ ͡° )つ──☆*:・ﾟ YOUR CODE HERE\n",
    "\n",
    "    def __getitem__(self, idx: int) -> tuple[np.ndarray, tuple[int, int]]:\n",
    "        image_name, time = self.samples[idx]\n",
    "        image_path = self.images_path / image_name\n",
    "\n",
    "        # Load image with OpenCV and convert to RGB\n",
    "        # ╰( ͡° ͜ʖ ͡° )つ──☆*:・ﾟ YOUR CODE HERE\n",
    "\n",
    "        # Apply augmentations\n",
    "        # ╰( ͡° ͜ʖ ͡° )つ──☆*:・ﾟ YOUR CODE HERE\n",
    "\n",
    "        # Apply preprocessing\n",
    "        # ╰( ͡° ͜ʖ ͡° )つ──☆*:・ﾟ YOUR CODE HERE\n",
    "\n",
    "        # One-hot encode the label\n",
    "        # ╰( ͡° ͜ʖ ͡° )つ──☆*:・ﾟ YOUR CODE HERE\n",
    "\n",
    "        return image, (hour_label, minute_label)\n"
   ]
  },
  {
   "cell_type": "markdown",
   "metadata": {},
   "source": [
    "### Testing:\n",
    "- Instantiate the `TimerDataset` class.\n",
    "- Retrieve and visualize a sample from the dataset to confirm correct loading and processing."
   ]
  },
  {
   "cell_type": "code",
   "execution_count": 16,
   "metadata": {
    "id": "mW7XPjHKn4Q8"
   },
   "outputs": [],
   "source": [
    "dataset = # ╰( ͡° ͜ʖ ͡° )つ──☆*:・ﾟ YOUR CODE HERE"
   ]
  },
  {
   "cell_type": "code",
   "execution_count": 24,
   "metadata": {
    "colab": {
     "base_uri": "https://localhost:8080/",
     "height": 428
    },
    "id": "0kpMxgdNn5zl",
    "outputId": "ede0e515-031a-48f3-eb3c-4dc577a05e17"
   },
   "outputs": [
    {
     "data": {
      "image/png": "[encoded data removed]",
      "text/plain": [
       "<Figure size 640x480 with 1 Axes>"
      ]
     },
     "metadata": {},
     "output_type": "display_data"
    }
   ],
   "source": [
    "visualize(image=dataset[0][0])"
   ]
  },
  {
   "cell_type": "markdown",
   "metadata": {
    "id": "4B2jbM1ep2oy"
   },
   "source": [
    "## [Task 5] Two-Headed CNN Model Architecture - 1 Point\n",
    "\n",
    "<img src=\"./images/3.png\" width=\"65%\">\n",
    "\n",
    "### Description:\n",
    "Design a neural network with a shared backbone and two separate heads for predicting hours and minutes.\n",
    "\n",
    "### Steps:\n",
    "1. Use a pre-trained CNN from `torchvision` to retrieve images features.\n",
    "2. Add two new heads, one for hour classification and one for minute classification, each with its own fully connected layers.\n",
    "3. Implement the `forward` method to process input through the backbone and both heads."
   ]
  },
  {
   "cell_type": "code",
   "execution_count": 25,
   "metadata": {
    "id": "yT7p1gbkpzmU"
   },
   "outputs": [],
   "source": [
    "import torch\n",
    "import torch.nn as nn\n",
    "import torchvision.models as models\n",
    "\n",
    "\n",
    "class TwoHeadedCNN(nn.Module):\n",
    "    \"\"\"\n",
    "    A neural network module with two heads, \n",
    "    designed for simultaneous hour and minute classification.\n",
    "\n",
    "    This module takes a backbone CNN model, \n",
    "    removes its last fully connected layer, and adds two separate\n",
    "    heads: one for hour classification and one for minute classification.\n",
    "\n",
    "    Args:\n",
    "        backbone (torch.nn.Module): A pre-trained CNN model to use as the backbone.\n",
    "        num_hour_classes (int, optional): Number of hour classes (default is 24).\n",
    "        num_minute_classes (int, optional): Number of minute classes (default is 60).\n",
    "\n",
    "    \"\"\"\n",
    "    def __init__(\n",
    "        self,\n",
    "        backbone: torch.nn.Module,\n",
    "        num_hour_classes: int = 24,\n",
    "        num_minute_classes: int = 60,\n",
    "    ):\n",
    "        super().__init__()\n",
    "\n",
    "        # Use the provided backbone model\n",
    "        # Remove the last fully connected layer\n",
    "        # ╰( ͡° ͜ʖ ͡° )つ──☆*:・ﾟ YOUR CODE HERE\n",
    "        \n",
    "        # Hours head\n",
    "        # ╰( ͡° ͜ʖ ͡° )つ──☆*:・ﾟ YOUR CODE HERE\n",
    "\n",
    "        # Minutes head\n",
    "        # ╰( ͡° ͜ʖ ͡° )つ──☆*:・ﾟ YOUR CODE HERE\n",
    "\n",
    "    def forward(self, x: torch.Tensor) -> tuple[torch.Tensor, torch.Tensor]:\n",
    "        \"\"\"\n",
    "        Defines the forward pass of the model.\n",
    "\n",
    "        Args:\n",
    "            x (torch.Tensor): Input tensor to the network.\n",
    "\n",
    "        Returns:\n",
    "            tuple[torch.Tensor, torch.Tensor]: The outputs from the hours head and minutes head.\n",
    "        \"\"\"\n",
    "        # Forward pass through the backbone model\n",
    "        # Flatten the features\n",
    "        # ╰( ͡° ͜ʖ ͡° )つ──☆*:・ﾟ YOUR CODE HERE\n",
    "\n",
    "        # Separate heads for hours and minutes\n",
    "        # ╰( ͡° ͜ʖ ͡° )つ──☆*:・ﾟ YOUR CODE HERE"
   ]
  },
  {
   "cell_type": "markdown",
   "metadata": {},
   "source": [
    "## [Task 6] Composite Loss Function - 0.5 Points\n",
    "\n",
    "### Description:\n",
    "Develop a loss function that computes the composite loss for a two-headed CNN model, accounting for both hour and minute predictions.\n",
    "\n",
    "### Steps:\n",
    "1. Complete the `composite_loss` function that accepts the model outputs and true labels for both hours and minutes.\n",
    "2. Use CrossEntropyLoss to calculate the loss for each head separately.\n",
    "3. Combine the individual losses into a single composite loss value."
   ]
  },
  {
   "cell_type": "code",
   "execution_count": 19,
   "metadata": {},
   "outputs": [],
   "source": [
    "from torch.nn import CrossEntropyLoss\n",
    "\n",
    "\n",
    "def composite_loss(\n",
    "    model_output: tuple[torch.Tensor, torch.Tensor], \n",
    "    hour_labels: torch.Tensor, \n",
    "    minute_labels: torch.Tensor,\n",
    ") -> torch.Tensor:\n",
    "    \"\"\"\n",
    "    Calculates the composite loss for the two outputs of the model.\n",
    "\n",
    "    This function computes the CrossEntropyLoss for each output (hours and minutes) \n",
    "    and then combines them to create a composite loss.\n",
    "\n",
    "    Args:\n",
    "        model_output (tuple[torch.Tensor, torch.Tensor]): The outputs of the model, \n",
    "                                                          where the first tensor is hour predictions \n",
    "                                                          and the second tensor is minute predictions.\n",
    "        hour_labels (torch.Tensor): The true hour labels.\n",
    "        minute_labels (torch.Tensor): The true minute labels.\n",
    "\n",
    "    Returns:\n",
    "        torch.Tensor: The composite loss value.\n",
    "    \"\"\"\n",
    "    # ╰( ͡° ͜ʖ ͡° )つ──☆*:・ﾟ YOUR CODE HERE"
   ]
  },
  {
   "cell_type": "markdown",
   "metadata": {
    "id": "l0S5NqWhp6Z9"
   },
   "source": [
    "## [Task 7] Training Loop - 1.25 Points\n",
    "\n",
    "### Description:\n",
    "Set up the training loop for the model using the provided configuration. This will involve writing `train_epoch` and `valid_epoch` functions, as well as the `main` function to initialize the model and datasets and to orchestrate the training process.\n",
    "\n",
    "### Steps:\n",
    "1. `train_epoch`: Write a function to train the model for one epoch, using the DataLoader to fetch data, the model to make predictions, the loss function to compute the loss, and the optimizer to update the model parameters.\n",
    "2. `valid_epoch`: Write a function to validate the model for one epoch. It should also use the DataLoader to fetch data and the model to make predictions, but it should not perform any parameter updates.\n",
    "3. `main`: Implement the main function to load data, create model instances, and call the training and validation functions in a loop for the desired number of epochs."
   ]
  },
  {
   "cell_type": "code",
   "execution_count": 34,
   "metadata": {
    "id": "XXavMB9ap4ha"
   },
   "outputs": [],
   "source": [
    "from pathlib import Path\n",
    "from typing import Callable, Any\n",
    "\n",
    "import torch\n",
    "from torch.utils.data import DataLoader\n",
    "from torch.optim import Adam\n",
    "from tqdm import tqdm\n",
    "\n",
    "\n",
    "def train_epoch(\n",
    "    model: torch.nn.Module,\n",
    "    dataloader: DataLoader,\n",
    "    optimizer: torch.optim.Optimizer,\n",
    "    device: str | torch.device,\n",
    "    epoch: int,\n",
    ") -> float:\n",
    "    \"\"\"\n",
    "    Performs a single training epoch.\n",
    "\n",
    "    Args:\n",
    "        model (torch.nn.Module): The neural network model to train.\n",
    "        dataloader (DataLoader): DataLoader for the training dataset.\n",
    "        loss_fn (Callable): Loss function used for training.\n",
    "        optimizer (torch.optim.Optimizer): Optimizer for updating model weights.\n",
    "        device (str | torch.device): Device to which tensors will be moved ('cpu' or 'cuda').\n",
    "        epoch (int): Current epoch number.\n",
    "\n",
    "    Returns:\n",
    "        float: Average loss for this training epoch.\n",
    "    \"\"\"\n",
    "    model.train()\n",
    "    total_loss = 0\n",
    "    progress_bar = tqdm(dataloader, desc=f\"Epoch {epoch + 1} Training\")\n",
    "    for images, (hour_labels, minute_labels) in progress_bar:\n",
    "        # ╰( ͡° ͜ʖ ͡° )つ──☆*:・ﾟ YOUR CODE HERE\n",
    "\n",
    "    avg_loss = total_loss / len(dataloader)\n",
    "    return avg_loss\n",
    "\n",
    "\n",
    "def valid_epoch(\n",
    "    model: torch.nn.Module,\n",
    "    dataloader: DataLoader,\n",
    "    device: str | torch.device,\n",
    "    epoch: int,\n",
    ") -> float:\n",
    "    \"\"\"\n",
    "    Performs a single validation epoch.\n",
    "\n",
    "    Args:\n",
    "        model (torch.nn.Module): The neural network model to validate.\n",
    "        dataloader (DataLoader): DataLoader for the validation dataset.\n",
    "        loss_fn (Callable): Loss function used for validation.\n",
    "        device (str | torch.device): Device to which tensors will be moved ('cpu' or 'cuda').\n",
    "        epoch (int): Current epoch number.\n",
    "\n",
    "    Returns:\n",
    "        float: Average loss for this validation epoch.\n",
    "    \"\"\"\n",
    "    model.eval()\n",
    "    total_loss = 0\n",
    "    progress_bar = tqdm(dataloader, desc=f\"Epoch {epoch + 1} Validation\")\n",
    "    with torch.no_grad():\n",
    "        for images, (hour_labels, minute_labels) in progress_bar:\n",
    "            # ╰( ͡° ͜ʖ ͡° )つ──☆*:・ﾟ YOUR CODE HERE\n",
    "\n",
    "    avg_loss = total_loss / len(dataloader)\n",
    "    return avg_loss\n",
    "\n",
    "\n",
    "def main(config: dict[str, Any]) -> torch.nn.Module:\n",
    "    \"\"\"\n",
    "    Main training loop for the model.\n",
    "\n",
    "    This function sets up datasets, dataloaders, model, \n",
    "    loss function, and optimizer based on the provided configuration. \n",
    "    It then runs the training and validation loops for a specified number of epochs.\n",
    "\n",
    "    Args:\n",
    "        config (dict[str, Any]): Configuration dictionary containing parameters for training.\n",
    "\n",
    "    Returns:\n",
    "        torch.nn.Module: Trained model.\n",
    "    \"\"\"\n",
    "    # Load datasets (train, valid)\n",
    "    # ╰( ͡° ͜ʖ ͡° )つ──☆*:・ﾟ YOUR CODE HERE\n",
    "\n",
    "    # Load dataloaders (train, valid)\n",
    "    # ╰( ͡° ͜ʖ ͡° )つ──☆*:・ﾟ YOUR CODE HERE\n",
    "\n",
    "    # Model and Optimizer\n",
    "    # ╰( ͡° ͜ʖ ͡° )つ──☆*:・ﾟ YOUR CODE HERE\n",
    "\n",
    "    # Training loop\n",
    "    for epoch in range(config[\"num_epochs\"]):\n",
    "        # ╰( ͡° ͜ʖ ͡° )つ──☆*:・ﾟ YOUR CODE HERE\n",
    "\n",
    "        print(f\"Epoch {epoch + 1} Summary: Train Loss: {train_loss:.4f}, Validation Loss: {valid_loss:.4f}\\n\")\n",
    "    return model"
   ]
  },
  {
   "cell_type": "markdown",
   "metadata": {},
   "source": [
    "## [Task 8] Model Training - 1 Point\n",
    "\n",
    "### Description:\n",
    "Execute the model training using the defined configuration and save the trained model's state for future use.\n",
    "\n",
    "### Steps:\n",
    "1. Create a configuration dictionary with all the necessary parameters for the training process, including paths for the dataset, number of epochs, learning rate, and device specification.\n",
    "2. Call the `main` function with this configuration to train the model.\n",
    "3. After training, save the model's state dictionary so that the trained model can be loaded and used for inference later.\n",
    "\n",
    "### Testing:\n",
    "- Run the training process with the specified configuration to ensure it completes without errors.\n",
    "- Confirm that the model's state dictionary is saved correctly by loading it and verifying that it contains the expected parameters."
   ]
  },
  {
   "cell_type": "code",
   "execution_count": 1,
   "metadata": {
    "colab": {
     "base_uri": "https://localhost:8080/"
    },
    "id": "-uhsgh9ep9Cr",
    "outputId": "b3284c71-55a5-4e98-f709-1c3495ef3386",
    "scrolled": true
   },
   "outputs": [],
   "source": [
    "from torchvision import models\n",
    "\n",
    "# Basic configuration - adjust paths and parameters as needed\n",
    "config = {\n",
    "    \"images_path\": \"( ͡° ͜ʖ ͡° )\",\n",
    "    \"markup_path\": \"( ͡° ͜ʖ ͡° )\",\n",
    "    \"splits_path\": \"( ͡° ͜ʖ ͡° )\",\n",
    "    \"batch_size\": 1,\n",
    "    \"learning_rate\": 1e-10,\n",
    "    \"num_epochs\": 1,\n",
    "    \"device\": \"cuda\" if torch.cuda.is_available() else \"cpu\",\n",
    "    \"backbone\": models.resnet152(weights=models.resnet.ResNet152_Weights.DEFAULT)\n",
    "}\n",
    "\n",
    "model = main(config)"
   ]
  },
  {
   "cell_type": "markdown",
   "metadata": {
    "id": "Lmzmk8peqI8b"
   },
   "source": [
    "### Save model's state dict: (if you wish)"
   ]
  },
  {
   "cell_type": "code",
   "execution_count": 43,
   "metadata": {
    "id": "8PN1319RqBZ9"
   },
   "outputs": [],
   "source": [
    "torch.save(model.state_dict(), 'model.pth')"
   ]
  },
  {
   "cell_type": "markdown",
   "metadata": {
    "id": "48KIk7kgqNRg"
   },
   "source": [
    "## [Task 9] Model Inference - 0.5 Points\n",
    "\n",
    "### Description:\n",
    "Create a function to perform inference on a single image using a pre-trained model, converting the output to a human-readable time format.\n",
    "\n",
    "### Steps:\n",
    "1. Define an `infer_torch` function that accepts an image in numpy array format, the trained model, and the target image size for preprocessing.\n",
    "2. Inside the function, apply the necessary validation augmentations and preprocessing to prepare the image for the model.\n",
    "3. Convert the preprocessed image to a PyTorch tensor and feed it into the model to obtain the predicted hour and minute.\n",
    "4. Convert the model's output to a time string in the format 'HH:MM'."
   ]
  },
  {
   "cell_type": "code",
   "execution_count": 44,
   "metadata": {
    "id": "aT8vcQ5HqOno"
   },
   "outputs": [],
   "source": [
    "def infer_torch(image: np.ndarray, model: torch.nn.Module, image_size=64) -> str:\n",
    "    \"\"\"\n",
    "    Performs inference on a single image using a trained model.\n",
    "\n",
    "    This function applies validation augmentations and preprocessing to the image, converts it to a\n",
    "    PyTorch tensor, and then uses the model to predict the time. The function outputs the predicted\n",
    "    time as a string.\n",
    "\n",
    "    Args:\n",
    "        image (np.ndarray): The image to be processed and fed into the model.\n",
    "        model (torch.nn.Module): The trained model used for inference.\n",
    "        image_size (int, optional): The size to which the image will be resized.\n",
    "\n",
    "    Returns:\n",
    "        str: The predicted time as a string in the format 'HH:MM'.\n",
    "    \"\"\"\n",
    "    model.eval()\n",
    "\n",
    "    # Apply validation augmentations\n",
    "    # ╰( ͡° ͜ʖ ͡° )つ──☆*:・ﾟ YOUR CODE HERE\n",
    "\n",
    "    # Preprocess the image\n",
    "    # ╰( ͡° ͜ʖ ͡° )つ──☆*:・ﾟ YOUR CODE HERE\n",
    "    \n",
    "    # Convert the image to a PyTorch tensor, add batch dimension, put on device\n",
    "    # ╰( ͡° ͜ʖ ͡° )つ──☆*:・ﾟ YOUR CODE HERE\n",
    "    \n",
    "    # Predict using the model\n",
    "    # ╰( ͡° ͜ʖ ͡° )つ──☆*:・ﾟ YOUR CODE HERE\n",
    "\n",
    "    # Convert to time format\n",
    "    # ╰( ͡° ͜ʖ ͡° )つ──☆*:・ﾟ YOUR CODE HERE"
   ]
  },
  {
   "cell_type": "markdown",
   "metadata": {},
   "source": [
    "### Testing:\n",
    "- Use a sample image and a trained model to test the `infer_torch` function.\n",
    "- Display the original image and the predicted time to verify the function's output."
   ]
  },
  {
   "cell_type": "code",
   "execution_count": 45,
   "metadata": {
    "id": "ENw9SRkkqQVW"
   },
   "outputs": [],
   "source": [
    "image_path = # ╰( ͡° ͜ʖ ͡° )つ──☆*:・ﾟ YOUR CODE HERE\n",
    "\n",
    "image = # ╰( ͡° ͜ʖ ͡° )つ──☆*:・ﾟ YOUR CODE HERE\n",
    "predicted_time = # ╰( ͡° ͜ʖ ͡° )つ──☆*:・ﾟ YOUR CODE HERE"
   ]
  },
  {
   "cell_type": "code",
   "execution_count": 46,
   "metadata": {
    "colab": {
     "base_uri": "https://localhost:8080/",
     "height": 324
    },
    "id": "Cluuhd6cqSxD",
    "outputId": "b3ecb86c-8ffb-400b-bbeb-93efca5f1bba"
   },
   "outputs": [
    {
     "data": {
      "image/png": "[encoded data removed]",
      "text/plain": [
       "<Figure size 640x480 with 1 Axes>"
      ]
     },
     "metadata": {},
     "output_type": "display_data"
    },
    {
     "name": "stdout",
     "output_type": "stream",
     "text": [
      "Predicted Time: 15:53\n"
     ]
    }
   ],
   "source": [
    "visualize(image=image)\n",
    "print(\"Predicted Time:\", predicted_time)"
   ]
  },
  {
   "cell_type": "markdown",
   "metadata": {
    "id": "77w8e30PrP_p"
   },
   "source": [
    "## [Task 10] Model Evaluation - 1 Point\n",
    "\n",
    "### Description:\n",
    "Write a function to assess the model's performance on the validation set by calculating accuracy, which is the proportion of correct predictions to total predictions.\n",
    "\n",
    "### Steps:\n",
    "1. Define an `evaluate_model` function that receives the model, paths to splits and targets, and the directory containing images.\n",
    "2. Load the validation set splits and corresponding targets.\n",
    "3. Iterate over the validation set, performing inference and comparing the predicted time to the actual time.\n",
    "4. Tally the correct predictions and calculate the accuracy.\n",
    "\n",
    "**(!!) To achieve full points for this task, the model's accuracy on the validation set must exceed 0.9. Make sure to fine-tune your model and preprocessing steps to meet this benchmark.**"
   ]
  },
  {
   "cell_type": "markdown",
   "metadata": {},
   "source": [
    "**Two helper functions, special for you:**"
   ]
  },
  {
   "cell_type": "code",
   "execution_count": 47,
   "metadata": {
    "id": "W6JZOxzeqwuu"
   },
   "outputs": [],
   "source": [
    "def load_splits(splits_path: str) -> dict:\n",
    "    \"\"\"\n",
    "    Loads train/validation splits from a JSON file.\n",
    "\n",
    "    This function reads a JSON file specifying which images are in the training set\n",
    "    and which are in the validation set.\n",
    "\n",
    "    Args:\n",
    "        splits_path (str): The path to the JSON file containing the train/validation splits.\n",
    "\n",
    "    Returns:\n",
    "        dict: A dictionary with keys 'train' and 'validation', each mapping to a list of image names.\n",
    "    \"\"\"\n",
    "    with open(splits_path, 'r') as file:\n",
    "        splits = json.load(file)\n",
    "    return splits\n",
    "\n",
    "\n",
    "def load_targets(targets_path: str) -> dict[str, str]:\n",
    "    \"\"\"\n",
    "    Loads target time labels for images from a file.\n",
    "\n",
    "    This function reads a file where each line contains a time label and an image name,\n",
    "    separated by ' -> '. It creates a dictionary mapping from image names to their corresponding\n",
    "    time labels.\n",
    "\n",
    "    Args:\n",
    "        targets_path (str): The path to the file containing the image names \n",
    "        and their corresponding time labels.\n",
    "\n",
    "    Returns:\n",
    "        dict[str, str]: A dictionary where keys are image names \n",
    "        and values are their corresponding time labels.\n",
    "    \"\"\"\n",
    "    targets = {}\n",
    "    with open(targets_path, 'r') as file:\n",
    "        for line in file:\n",
    "            time_str, image_name = line.strip().split(' -> ')\n",
    "            targets[image_name] = time_str\n",
    "    return targets"
   ]
  },
  {
   "cell_type": "code",
   "execution_count": 2,
   "metadata": {
    "colab": {
     "base_uri": "https://localhost:8080/"
    },
    "id": "Vov61_I0rR1X",
    "outputId": "97d55bf4-493b-42e4-f3da-fa8ad5617340"
   },
   "outputs": [],
   "source": [
    "import json\n",
    "import os\n",
    "\n",
    "\n",
    "def evaluate_model(\n",
    "    model: torch.nn.Module,\n",
    "    splits_path: str,\n",
    "    targets_path: str,\n",
    "    images_dir: str,\n",
    "    image_size: int = 64\n",
    ") -> float:\n",
    "    \"\"\"\n",
    "    Evaluates model's accuracy on a validation set.\n",
    "\n",
    "    This function calculates the accuracy of the provided model by comparing its predictions\n",
    "    with the actual target times for each image in the validation set. It uses a specified\n",
    "    splits file to determine the images in the validation set and a targets file to get the\n",
    "    correct time labels.\n",
    "\n",
    "    Args:\n",
    "        model (torch.nn.Module): The trained model to evaluate.\n",
    "        splits_path (str): Path to the JSON file containing the train/validation splits.\n",
    "        targets_path (str): Path to the file containing the image names and their corresponding time labels.\n",
    "        images_dir (str): Directory containing the images referenced in the targets file.\n",
    "        image_size (int, optional): Size to which the images should be resized.\n",
    "\n",
    "    Returns:\n",
    "        float: The accuracy of the model on the validation set.\n",
    "    \"\"\"\n",
    "    model.eval()\n",
    "    splits = load_splits(splits_path)\n",
    "    targets = load_targets(targets_path)\n",
    "\n",
    "    # Metrics initialization\n",
    "    correct_predictions = 0\n",
    "    total_predictions = 0\n",
    "\n",
    "    # Evaluate on the validation set\n",
    "    # ╰( ͡° ͜ʖ ͡° )つ──☆*:・ﾟ YOUR CODE HERE\n",
    "\n",
    "    # Calculate accuracy\n",
    "    # ╰( ͡° ͜ʖ ͡° )つ──☆*:・ﾟ YOUR CODE HERE\n",
    "    return accuracy\n",
    "\n",
    "splits_path = 'timer_dataset/splits.json'\n",
    "targets_path = 'timer_dataset/targets.txt'\n",
    "images_dir = 'timer_dataset/images/'\n",
    "\n",
    "accuracy = evaluate_model(model, splits_path, targets_path, images_dir)\n",
    "print(\"\\nAccuracy:\", accuracy)"
   ]
  },
  {
   "cell_type": "code",
   "execution_count": 118,
   "metadata": {},
   "outputs": [],
   "source": [
    "assert accuracy > 0.9, \"Try again!\""
   ]
  },
  {
   "cell_type": "markdown",
   "metadata": {},
   "source": [
    "## [Task 11] Model Conversion and Speed Benchmarking - 1 Point\n",
    "\n",
    "### Description:\n",
    "Convert the trained model to different runtimes (JIT, ONNX, TensorRT) and benchmark the inference speed. Document the results in a comparative table.\n",
    "\n",
    "### Steps:\n",
    "1. Use the original PyTorch model (referred to as 'Vanilla') and perform inference speed testing.\n",
    "2. Convert the model using JIT compilation and measure the inference speed.\n",
    "3. Use the Torch Compile API to compile the model and benchmark the speed.\n",
    "4. Convert the model to TensorRT and test inference speed.\n",
    "5. Convert the model to ONNX and test inference speed."
   ]
  },
  {
   "cell_type": "markdown",
   "metadata": {
    "id": "mxr3akTsrqGg"
   },
   "source": [
    "**Vanilla**"
   ]
  },
  {
   "cell_type": "code",
   "execution_count": 49,
   "metadata": {
    "id": "_c59VXLp2Gfl"
   },
   "outputs": [],
   "source": [
    "# Ensure, that the model in eval() mode, put it on the device\n",
    "model = # ╰( ͡° ͜ʖ ͡° )つ──☆*:・ﾟ YOUR CODE HERE"
   ]
  },
  {
   "cell_type": "code",
   "execution_count": 1,
   "metadata": {
    "colab": {
     "base_uri": "https://localhost:8080/"
    },
    "id": "5I_C8bSBrVoX",
    "outputId": "6b03825b-12d6-4595-828e-515eab931064"
   },
   "outputs": [],
   "source": [
    "%%timeit -n 500\n",
    "image = # ╰( ͡° ͜ʖ ͡° )つ──☆*:・ﾟ YOUR CODE HERE\n",
    "infer_torch(image, model)"
   ]
  },
  {
   "cell_type": "markdown",
   "metadata": {
    "id": "pc_39gQy3QPs"
   },
   "source": [
    "**Jit Tracing**\n",
    "\n",
    "Torch JIT tracing converts PyTorch models into an optimized, platform-independent format, boosting performance and simplifying deployment. It's useful for efficiently running models across different devices."
   ]
  },
  {
   "cell_type": "code",
   "execution_count": 51,
   "metadata": {
    "id": "MafeaWsG03n4"
   },
   "outputs": [],
   "source": [
    "# Create a dummy input for the tracing\n",
    "# ╰( ͡° ͜ʖ ͡° )つ──☆*:・ﾟ YOUR CODE HERE\n",
    "\n",
    "# Trace the model\n",
    "# ╰( ͡° ͜ʖ ͡° )つ──☆*:・ﾟ YOUR CODE HERE"
   ]
  },
  {
   "cell_type": "code",
   "execution_count": 2,
   "metadata": {
    "colab": {
     "base_uri": "https://localhost:8080/"
    },
    "id": "42a-qoF73bhS",
    "outputId": "e53d53eb-8893-429b-913c-0c21a9b583ee"
   },
   "outputs": [],
   "source": [
    "%%timeit -n 500\n",
    "image = # ╰( ͡° ͜ʖ ͡° )つ──☆*:・ﾟ YOUR CODE HERE\n",
    "infer_torch(image, traced_model)"
   ]
  },
  {
   "cell_type": "markdown",
   "metadata": {
    "id": "bajcqt3_rzon"
   },
   "source": [
    "**Torch Compile**\n",
    "\n",
    "`torch.compile` is a PyTorch feature that enhances performance by JIT-compiling PyTorch code into optimized kernels. This method speeds up code execution significantly with minimal changes to the existing codebase. It's a step beyond previous PyTorch compiler solutions like TorchScript and FX Tracing, offering more streamlined and efficient optimization."
   ]
  },
  {
   "cell_type": "code",
   "execution_count": null,
   "metadata": {
    "id": "sv_obvHwr6SZ"
   },
   "outputs": [],
   "source": [
    "# Compile the model\n",
    "opt_model = # ╰( ͡° ͜ʖ ͡° )つ──☆*:・ﾟ YOUR CODE HERE"
   ]
  },
  {
   "cell_type": "code",
   "execution_count": 3,
   "metadata": {
    "colab": {
     "base_uri": "https://localhost:8080/"
    },
    "id": "z-w4JGdsr_74",
    "outputId": "eb8bee02-e8fe-411c-9e11-1ab092f9abb4"
   },
   "outputs": [],
   "source": [
    "%%timeit -n 500\n",
    "image = # ╰( ͡° ͜ʖ ͡° )つ──☆*:・ﾟ YOUR CODE HERE\n",
    "infer_torch(image, opt_model)"
   ]
  },
  {
   "cell_type": "markdown",
   "metadata": {
    "id": "NpxhTy663w0W"
   },
   "source": [
    "**TensorRT**\n",
    "\n",
    "`TensorRT`, developed by NVIDIA, significantly enhances the speed and efficiency of deep learning models on GPUs. It uses advanced optimization techniques such as layer fusion and precision calibration to maximize throughput and reduce latency. Designed for cross-platform compatibility, it supports various frameworks and is particularly effective in production environments where high-performance inference is crucial. "
   ]
  },
  {
   "cell_type": "code",
   "execution_count": 60,
   "metadata": {
    "colab": {
     "base_uri": "https://localhost:8080/",
     "height": 402
    },
    "id": "U4kgYqV64Deq",
    "outputId": "77f95873-ef40-446f-e85e-cd5c28934380"
   },
   "outputs": [],
   "source": [
    "import torch_tensorrt\n",
    "\n",
    "# Create a dummy input for the compile\n",
    "dummy_input = # ╰( ͡° ͜ʖ ͡° )つ──☆*:・ﾟ YOUR CODE HERE\n",
    "\n",
    "# Compile the model\n",
    "tensorrt_model = # ╰( ͡° ͜ʖ ͡° )つ──☆*:・ﾟ YOUR CODE HERE"
   ]
  },
  {
   "cell_type": "code",
   "execution_count": 4,
   "metadata": {
    "colab": {
     "base_uri": "https://localhost:8080/"
    },
    "id": "_uc8psUc5WM2",
    "outputId": "955697c0-c7fa-4d9d-945c-e1310296f3c9"
   },
   "outputs": [],
   "source": [
    "%%timeit -n 500\n",
    "image = # ╰( ͡° ͜ʖ ͡° )つ──☆*:・ﾟ YOUR CODE HERE\n",
    "infer_torch(image, tensorrt_model)"
   ]
  },
  {
   "cell_type": "markdown",
   "metadata": {
    "id": "LqX8i-UN9Owb"
   },
   "source": [
    "**ONNX**\n",
    "\n",
    "`ONNX (Open Neural Network Exchange)` is an open format designed to represent machine learning models. It enables models to be transferred between different frameworks, ensuring interoperability and flexibility. ONNX is widely used for model sharing and deployment across various platforms and tools, making it valuable for developers working in diverse environments or with multiple machine learning frameworks. Its ability to standardize model representation simplifies the process of model exchange and deployment."
   ]
  },
  {
   "cell_type": "code",
   "execution_count": 56,
   "metadata": {
    "colab": {
     "base_uri": "https://localhost:8080/"
    },
    "id": "fJ1-Ykq39InI",
    "outputId": "9c3590ac-3b67-4aea-eaf6-8bd5020deb9e"
   },
   "outputs": [],
   "source": [
    "import torch\n",
    "import torch.onnx\n",
    "\n",
    "# Create a dummy input for the export\n",
    "dummy_input = # ╰( ͡° ͜ʖ ͡° )つ──☆*:・ﾟ YOUR CODE HERE\n",
    "\n",
    "# Export the model, saving it like \"model.onnx\"\n",
    "# ╰( ͡° ͜ʖ ͡° )つ──☆*:・ﾟ YOUR CODE HERE"
   ]
  },
  {
   "cell_type": "code",
   "execution_count": 57,
   "metadata": {
    "id": "DXbdtezB-hFb"
   },
   "outputs": [],
   "source": [
    "import numpy as np\n",
    "import onnxruntime as ort\n",
    "\n",
    "\n",
    "def infer_onnx(\n",
    "    image: np.ndarray,\n",
    "    session: ort.InferenceSession,\n",
    "    image_size: int = 64\n",
    "  ) -> str:\n",
    "    \"\"\"\n",
    "    Performs inference on a single image using an ONNX model session.\n",
    "\n",
    "    This function applies validation augmentations and preprocessing to the image, converts it to the\n",
    "    format expected by the ONNX model, and then uses the session to predict the time. The function\n",
    "    outputs the predicted time as a string.\n",
    "\n",
    "    Args:\n",
    "        image (np.ndarray): The image to be processed and fed into the ONNX model.\n",
    "        session (ort.InferenceSession): The ONNX model inference session.\n",
    "        image_size (int, optional): The size to which the image will be resized.\n",
    "\n",
    "    Returns:\n",
    "        str: The predicted time as a string in the format 'HH:MM'.\n",
    "    \"\"\"\n",
    "    # Get ONNX model input_name\n",
    "    # ╰( ͡° ͜ʖ ͡° )つ──☆*:・ﾟ YOUR CODE HERE\n",
    "\n",
    "    # Apply validation augmentations\n",
    "    # ╰( ͡° ͜ʖ ͡° )つ──☆*:・ﾟ YOUR CODE HERE\n",
    "\n",
    "    # Preprocess the image\n",
    "    # ╰( ͡° ͜ʖ ͡° )つ──☆*:・ﾟ YOUR CODE HERE\n",
    "    \n",
    "    # Convert the image to the batch expected by ONNX, cast to float\n",
    "    # ╰( ͡° ͜ʖ ͡° )つ──☆*:・ﾟ YOUR CODE HERE\n",
    "\n",
    "    # Predict using the ONNX session\n",
    "    # ╰( ͡° ͜ʖ ͡° )つ──☆*:・ﾟ YOUR CODE HERE\n",
    "\n",
    "    # Assuming the model returns two outputs: hour and minute\n",
    "    # ╰( ͡° ͜ʖ ͡° )つ──☆*:・ﾟ YOUR CODE HERE\n",
    "\n",
    "    # Convert to time format\n",
    "    # ╰( ͡° ͜ʖ ͡° )つ──☆*:・ﾟ YOUR CODE HERE\n",
    "    return time_str"
   ]
  },
  {
   "cell_type": "code",
   "execution_count": 4,
   "metadata": {
    "id": "z0jHJv23GM9D"
   },
   "outputs": [],
   "source": [
    "# We initialize a session first\n",
    "session = ort.InferenceSession(\"model.onnx\")"
   ]
  },
  {
   "cell_type": "code",
   "execution_count": 5,
   "metadata": {
    "colab": {
     "base_uri": "https://localhost:8080/"
    },
    "id": "_H7yiLncCQ_-",
    "outputId": "ecda4c48-87c5-4520-bef9-da6005eb0791"
   },
   "outputs": [],
   "source": [
    "%%timeit -n 500\n",
    "image = # ╰( ͡° ͜ʖ ͡° )つ──☆*:・ﾟ YOUR CODE HERE\n",
    "infer_onnx(image, session=session)"
   ]
  },
  {
   "cell_type": "markdown",
   "metadata": {},
   "source": [
    "### Fill the table:\n",
    "\n",
    "| Runtime   | Number of Loops | Mean Inference Time (ms) | Standard Deviation (ms) |\n",
    "|-----------|-----------------|--------------------------|-------------------------|\n",
    "| Vanilla   | 500             | TBD                      | TBD                     |\n",
    "| JIT       | 500             | TBD                      | TBD                     |\n",
    "| Compile   | 500             | TBD                      | TBD                     |\n",
    "| TensorRT  | 500             | TBD                      | TBD                     |\n",
    "| ONNX      | 500             | TBD                      | TBD                     |"
   ]
  },
  {
   "cell_type": "markdown",
   "metadata": {},
   "source": [
    "### Your comments on results:"
   ]
  },
  {
   "cell_type": "markdown",
   "metadata": {},
   "source": [
    "(0_0)"
   ]
  },
  {
   "cell_type": "markdown",
   "metadata": {
    "id": "nBKQvEW8SpLC"
   },
   "source": [
    "## [Task 12] Rust - 3 Points\n",
    "\n",
    "<img src=\"./images/4.jpeg\" width=50%>\n",
    "\n",
    "### About Rust:\n",
    "Rust is a programming language known for its focus on safety and performance. It's designed to be memory safe, preventing common bugs seen in languages like C and C++. Rust achieves this through its unique ownership system, which manages memory and other resources at compile time, eliminating many runtime errors.\n",
    "\n",
    "Its performance is comparable to C++, making it suitable for systems programming and applications where speed is critical. Rust also offers modern features like zero-cost abstractions, guaranteed memory safety, and a friendly compiler with useful error messages, enhancing developer experience.\n",
    "\n",
    "Rust is increasingly popular in areas such as web assembly, embedded systems, and networking, as well as for building command-line tools and desktop applications. Its growing community and rich ecosystem of tools and libraries contribute to its rising adoption.\n",
    "\n",
    "\n",
    "### Suggested Materials:\n",
    "- \"Rust by Example\": A collection of runnable examples that illustrate various Rust concepts and standard libraries.\n",
    "- \"Rustlings\": A fun, instructive way to get accustomed to reading and writing Rust syntax through small exercises.\n",
    "- \"Maturin\": A tool specifically designed for creating Python extensions in Rust with ease. It integrates seamlessly with Cargo and PyPI, simplifying the process of building and distributing Rust-written Python modules. Ideal for enhancing Python with Rust’s performance and safety features, Maturin makes it straightforward to package and share Rust code as Python packages.\n",
    "\n",
    "### Why Infer in Rust:\n",
    "Rust is good for machine learning inference, offering safety and high performance. It avoids latency issues common with garbage collectors and its type system and concurrency model enable efficient, maintainable code. Rust's capabilities allow for serverless inference with lightweight binaries, addressing the slowness of large frameworks like PyTorch in cluster instances. It also reduces Python's performance overhead, a notable advantage given Python's Global Interpreter Lock (GIL) challenges. Rust's growing popularity in the machine learning ecosystem.\n",
    "\n",
    "Finally, Rust is cool!\n",
    "\n",
    "---\n",
    "\n",
    "### Description:\n",
    "The task involves enhancing a machine learning workflow by integrating Rust's performance capabilities with Python's flexibility. The goal is to use Rust for running an ONNX model inference, and then create Python bindings to utilize the Rust implementation. This hybrid approach aims to leverage Rust's performance and safety while maintaining the ease of use provided by Python.\n",
    "\n",
    "The project structure includes:\n",
    "```\n",
    ".\n",
    "├── Cargo.toml\n",
    "├── images\n",
    "├── HW6.ipynb\n",
    "├── model.onnx\n",
    "├── example.png\n",
    "├── src\n",
    "│   ├── lib.rs\n",
    "│   └── main.rs\n",
    "└── timer_dataset\n",
    "```\n",
    "\n",
    "- An example image file `example.png` which could be used for testing the inference process.\n",
    "- A `model.onnx` file which is our converted model to be used for inference.\n",
    "- A `Cargo.toml` file indicating the Rust project's dependencies.\n",
    "- A source directory `src` containing the Rust source code:\n",
    "  - `lib.rs` which is a Rust library file containing shared logic or definitions.\n",
    "  - `main.rs` which is the Rust main file, containing the entry point of the Rust application.\n",
    "\n",
    "**The `.rs` files in the source directory are almost complete but contain errors that need to be fixed. After correcting these errors, you are expected to compile the Rust source into a binary. This binary will be a production-ready executable that performs the ONNX model inference.**\n",
    "\n",
    "**The second part of the task is to build Python bindings using `maturin`. These bindings will allow Python scripts to call the Rust binary and perform inference. The binding should provide an interface where Python code can pass the paths of the model and image files, and then receive the inference results. The results expected are a string representing the predicted outcome and a float64 value indicating the elapsed time of the model call in Rust.**\n",
    "\n",
    "### Steps:\n",
    "1. Debug and correct the Rust code provided in `.rs` files.\n",
    "2. Compile the corrected Rust code into a production-ready binary for ONNX model inference.\n",
    "3. Create Python bindings for the Rust binary to allow inference from Python, ensuring the binding returns the predicted time as a string and the elapsed time as a float64."
   ]
  },
  {
   "cell_type": "markdown",
   "metadata": {},
   "source": [
    "### Part 1: Binary - 1 Point\n",
    "\n",
    "Compile a Rust binary that performs ONNX model inference and accurately predicts time from an image.\n",
    "\n",
    "Instructions:\n",
    "1. Compile the Rust binary using the provided command. Ensure all dependencies are correctly installed for a successful build.\n",
    "2. Run the binary with an image to perform inference. The program should output the time taken for inference and the predicted time.\n",
    "\n",
    "Criteria for Full Points:\n",
    " - The Rust binary compiles without errors.\n",
    " - Upon execution, the binary prints out the time taken for the inference process and the correct predicted time."
   ]
  },
  {
   "cell_type": "code",
   "execution_count": 9,
   "metadata": {
    "colab": {
     "base_uri": "https://localhost:8080/"
    },
    "id": "kqxt8F9UL3Ch",
    "outputId": "522e4628-f91a-45c9-b8da-0ce0ffb4dcde"
   },
   "outputs": [],
   "source": [
    "!cargo build --bin binary -r"
   ]
  },
  {
   "cell_type": "code",
   "execution_count": 10,
   "metadata": {
    "colab": {
     "base_uri": "https://localhost:8080/"
    },
    "id": "3qGSDEwSYB08",
    "outputId": "335fe56d-98e8-47c1-d8c8-f9fe9096fc92"
   },
   "outputs": [],
   "source": [
    "!./target/release/binary"
   ]
  },
  {
   "cell_type": "markdown",
   "metadata": {},
   "source": [
    "### Part 2: Python Binding - 2 Points\n",
    "\n",
    "Build a Python binding for the Rust-based ONNX inference engine and validate its functionality through a Python interface.\n",
    "\n",
    "Instructions:\n",
    "1. Use maturin to build the Python binding from the Rust implementation.\n",
    "2. Install the generated wheel using pip to make the binding available to Python.\n",
    "3. In Python, import the provided binding function and pass the paths of the ONNX model and an image file to it.\n",
    "4. Check that the function returns the correct prediction and the model's call time measured in Rust.\n",
    "\n",
    "Criteria for Full Points:\n",
    " - The Python binding compiles and installs without errors.\n",
    " - The Python code successfully calls the Rust inference engine and returns the correct prediction and elapsed time."
   ]
  },
  {
   "cell_type": "markdown",
   "metadata": {},
   "source": [
    "**Binding build and library install:**"
   ]
  },
  {
   "cell_type": "code",
   "execution_count": 6,
   "metadata": {
    "colab": {
     "base_uri": "https://localhost:8080/"
    },
    "id": "bPOCxt4vbsbx",
    "outputId": "f047ae59-6b15-4d47-b5de-a057ebac4b3d"
   },
   "outputs": [],
   "source": [
    "!maturin build -r"
   ]
  },
  {
   "cell_type": "code",
   "execution_count": 7,
   "metadata": {
    "colab": {
     "base_uri": "https://localhost:8080/"
    },
    "id": "d3tMxYuobzRX",
    "outputId": "32c8d783-bb26-4151-bcc8-5bd03063f1fc"
   },
   "outputs": [],
   "source": [
    "!pip install # ╰( ͡° ͜ʖ ͡° )つ──☆*:・ﾟ"
   ]
  },
  {
   "cell_type": "markdown",
   "metadata": {},
   "source": [
    "**Binding test:**"
   ]
  },
  {
   "cell_type": "code",
   "execution_count": 86,
   "metadata": {
    "id": "hicxOvOkfZ-9"
   },
   "outputs": [],
   "source": [
    "from onnx_inference import run_model"
   ]
  },
  {
   "cell_type": "code",
   "execution_count": 88,
   "metadata": {
    "id": "mCQxriGefeRd"
   },
   "outputs": [],
   "source": [
    "predict, elapsed_time = run_model(\"model.onnx\", \"example.png\")"
   ]
  },
  {
   "cell_type": "code",
   "execution_count": 8,
   "metadata": {},
   "outputs": [],
   "source": [
    "print(\"Time:\", predict, \"\\nElapsed time:\", elapsed_time)"
   ]
  },
  {
   "cell_type": "code",
   "execution_count": 117,
   "metadata": {},
   "outputs": [],
   "source": [
    "assert predict == \"15:53\""
   ]
  },
  {
   "cell_type": "code",
   "execution_count": null,
   "metadata": {},
   "outputs": [],
   "source": []
  }
 ],
 "metadata": {
  "accelerator": "GPU",
  "colab": {
   "gpuType": "T4",
   "provenance": []
  },
  "kernelspec": {
   "display_name": "Python 3 (ipykernel)",
   "language": "python",
   "name": "python3"
  },
  "language_info": {
   "codemirror_mode": {
    "name": "ipython",
    "version": 3
   },
   "file_extension": ".py",
   "mimetype": "text/x-python",
   "name": "python",
   "nbconvert_exporter": "python",
   "pygments_lexer": "ipython3",
   "version": "3.11.4"
  }
 },
 "nbformat": 4,
 "nbformat_minor": 1
}
