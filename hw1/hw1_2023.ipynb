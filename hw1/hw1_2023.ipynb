{
  "cells": [
    {
      "cell_type": "markdown",
      "metadata": {
        "id": "5GYwwlTcuJ4m"
      },
      "source": [
        "# HSE 2023: Mathematical Methods for Data Analysis\n",
        "\n",
        "## Homework 1"
      ]
    },
    {
      "cell_type": "markdown",
      "metadata": {
        "id": "2OMoZn7puJ4n"
      },
      "source": [
        "### Attention!\n",
        "* For tasks where <ins>text answer</ins> is required **Russian language** is **allowed**.\n",
        "* If a task asks you to describe something (make conclusions) then **text answer** is **mandatory** and **is** part of the task\n",
        "* **Do not** upload the dataset (titanic.csv) to the grading system (we already have it)\n",
        "* We **only** accept **ipynb** notebooks. If you use Google Colab then you'll have to download the notebook before passing the homework\n",
        "* **Do not** use python loops instead of NumPy vector operations over NumPy vectors - it significantly decreases performance (see why https://blog.paperspace.com/numpy-optimization-vectorization-and-broadcasting/), will be punished with -0.25 for **every** task.\n",
        "Loops are only allowed in part 1 (Tasks 1 - 4).\n",
        "* Some tasks contain tests. They only test your solution on a simple example, thus, passing the test does **not** guarantee you the full grade for the task."
      ]
    },
    {
      "cell_type": "code",
      "execution_count": 1,
      "metadata": {
        "id": "KVxhOZOXuJ4o"
      },
      "outputs": [],
      "source": [
        "%matplotlib inline\n",
        "import numpy as np\n",
        "import pandas as pd\n",
        "import matplotlib.pyplot as plt\n",
        "import seaborn as sns"
      ]
    },
    {
      "cell_type": "markdown",
      "metadata": {
        "id": "U20kQiWSuJ4o"
      },
      "source": [
        "# 1. Python (2 points)"
      ]
    },
    {
      "cell_type": "markdown",
      "metadata": {
        "id": "q6l8_yRXuJ4o"
      },
      "source": [
        "**Task 1** (0.5 points)<br/>\n",
        "Enter nonzero numbers `a`, `d` and `N`. Find the sum of the first `N` members of [harmonic sequence](https://en.wikipedia.org/wiki/Harmonic_progression_(mathematics)) with the first member denominator `a`"
      ]
    },
    {
      "cell_type": "code",
      "execution_count": 2,
      "metadata": {
        "id": "H2VAlE4WuJ4o"
      },
      "outputs": [
        {
          "name": "stdout",
          "output_type": "stream",
          "text": [
            "2.9289682539682538\n"
          ]
        }
      ],
      "source": [
        "def find_sum(a: int, d: int, N: int) -> float:\n",
        "    return sum([1 / (a + i * d) for i in range(0, N)])\n",
        "\n",
        "a = 1\n",
        "d = 1\n",
        "N = 10\n",
        "print(find_sum(a, d, N))"
      ]
    },
    {
      "cell_type": "markdown",
      "metadata": {
        "id": "FCtV7ud0uJ4p"
      },
      "source": [
        "**Task 2** (0.5 points) <br/>\n",
        "Enter an integer number `N`. Check if it is a palindrome number **without converting it to the string**. It means that it can be read equally from left to right and from right to back."
      ]
    },
    {
      "cell_type": "code",
      "execution_count": 4,
      "metadata": {
        "id": "-7y9eR62uJ4p"
      },
      "outputs": [
        {
          "name": "stdout",
          "output_type": "stream",
          "text": [
            "3 True\n",
            "81 False\n",
            "111 True\n",
            "113 False\n",
            "810 False\n",
            "2022 False\n",
            "4774 True\n",
            "51315 True\n",
            "611816 False\n"
          ]
        }
      ],
      "source": [
        "def check_palindrome(N):\n",
        "    l = []\n",
        "\n",
        "    while N:\n",
        "        l.append(N % 10)\n",
        "        N //= 10\n",
        "\n",
        "    for i in range(len(l) // 2):\n",
        "        if l[i] != l[len(l) - i - 1]:\n",
        "            return False\n",
        "\n",
        "    return True\n",
        "\n",
        "for N in [3, 81, 111, 113, 810, 2022, 4774, 51315, 611816]:\n",
        "    print(N, check_palindrome(N))"
      ]
    },
    {
      "cell_type": "markdown",
      "metadata": {
        "id": "MTmGn0IXuJ4p"
      },
      "source": [
        "**Task 3** (0.5 points) <br/>\n",
        "Find the first `N` palindrome numbers starting from 42 (you may use the function from the precious task)."
      ]
    },
    {
      "cell_type": "code",
      "execution_count": 5,
      "metadata": {
        "id": "eWD7K18OuJ4p"
      },
      "outputs": [
        {
          "name": "stdout",
          "output_type": "stream",
          "text": [
            "[44, 55, 66]\n",
            "[44, 55, 66, 77, 88, 99, 101, 111, 121, 131, 141, 151, 161]\n",
            "[44, 55, 66, 77, 88, 99, 101, 111, 121, 131, 141, 151, 161, 171, 181, 191, 202, 212, 222, 232, 242, 252, 262]\n"
          ]
        }
      ],
      "source": [
        "from itertools import count\n",
        "\n",
        "def find_palindromes(N):\n",
        "    l = []\n",
        "\n",
        "    for i in count(42):\n",
        "        if len(l) == N:\n",
        "            break\n",
        "\n",
        "        if check_palindrome(i):\n",
        "            l.append(i)\n",
        "\n",
        "    return l\n",
        "\n",
        "print(find_palindromes(3))\n",
        "print(find_palindromes(13))\n",
        "print(find_palindromes(23))"
      ]
    },
    {
      "cell_type": "markdown",
      "metadata": {
        "id": "xl9sWBMFuJ4p"
      },
      "source": [
        "**Task 4** (0.5 points) <br/>\n",
        "There are numbers: `a`, `b`, `c`. Without using functions `min`, `max` and other functions, find the median number."
      ]
    },
    {
      "cell_type": "code",
      "execution_count": 6,
      "metadata": {
        "id": "STOaXhYbuJ4p"
      },
      "outputs": [
        {
          "name": "stdout",
          "output_type": "stream",
          "text": [
            "85 -80 1 \tMedian: 1\n",
            "-66 48 67 \tMedian: 48\n",
            "-13 -86 -67 \tMedian: -67\n",
            "-37 -63 26 \tMedian: -37\n",
            "-36 -13 21 \tMedian: -13\n",
            "-1 -2 -88 \tMedian: -2\n",
            "41 63 1 \tMedian: 41\n",
            "15 -98 -40 \tMedian: -40\n",
            "-12 89 -42 \tMedian: -12\n",
            "12 -87 -60 \tMedian: -60\n"
          ]
        }
      ],
      "source": [
        "from random import randint\n",
        "\n",
        "def find_median(a, b, c):\n",
        "    if a <= b <= c:\n",
        "        return b\n",
        "\n",
        "    if c <= b <= a:\n",
        "        return b\n",
        "\n",
        "    if a <= c <= b:\n",
        "        return c\n",
        "\n",
        "    if b <= c <= a:\n",
        "        return c\n",
        "\n",
        "    if b <= a <= c:\n",
        "        return a\n",
        "\n",
        "    if c <= a <= b:\n",
        "        return a\n",
        "\n",
        "for i in range(10):\n",
        "\n",
        "    a = randint(-100, 100)\n",
        "    b = randint(-100, 100)\n",
        "    c = randint(-100, 100)\n",
        "\n",
        "    print(a, b, c, '\\tMedian:', find_median(a, b, c))"
      ]
    },
    {
      "cell_type": "markdown",
      "metadata": {
        "id": "up1L0oApuJ4p"
      },
      "source": [
        "# 2. Numpy (4 points)"
      ]
    },
    {
      "cell_type": "markdown",
      "metadata": {
        "id": "mWVb1DCyuJ4p"
      },
      "source": [
        "**Task 1** (0.5 points) <br/>\n",
        "Create a random array from Gaussian distribution with length of 12 and with sum of its elements equal to 15. Distribution shall be left Gaussian"
      ]
    },
    {
      "cell_type": "code",
      "execution_count": 28,
      "metadata": {
        "id": "r0p7U44VuJ4p"
      },
      "outputs": [
        {
          "name": "stdout",
          "output_type": "stream",
          "text": [
            "Length: 12\n",
            "Sum of elements: 15.000000000000256\n"
          ]
        }
      ],
      "source": [
        "my_array = np.random.normal(size=12)\n",
        "\n",
        "my_array *= 15 / np.sum(my_array)\n",
        "\n",
        "print(f'Length: {len(my_array)}')\n",
        "print(f'Sum of elements: {np.sum(my_array)}')"
      ]
    },
    {
      "cell_type": "markdown",
      "metadata": {
        "id": "k4v47kP0uJ4p"
      },
      "source": [
        "**Task 2** (0.5 points) <br/>\n",
        "Create two random arrays $a$ and $b$ with the same length.\n",
        "\n",
        "Calculate the following distances between the arrays **without using any special function. You may only use basic numpy operations (`np.linalg.*` and other high-level ones are prohibited).**:\n",
        "\n",
        "* Manhattan Distance\n",
        "$$ d(a, b) = \\sum_i |a_i - b_i| $$\n",
        "* Euclidean Distance\n",
        "$$ d(a, b) = \\sqrt{\\sum_i (a_i - b_i)^2} $$\n",
        "* Chebyshev Distance\n",
        "$$ d(a, b) = \\underset{i}{max} |a_i - b_i| $$\n",
        "* Cosine Distance\n",
        "$$ d(a, b) = 1 - \\frac{a^\\top b}{||a||_2\\cdot||b||_2} $$\n"
      ]
    },
    {
      "cell_type": "code",
      "execution_count": 78,
      "metadata": {
        "id": "W3veWp-VuJ4p"
      },
      "outputs": [],
      "source": [
        "def calculate_manhattan(a, b):\n",
        "    return np.sum(np.abs(a-b))\n",
        "\n",
        "def calculate_euclidean(a, b):\n",
        "    return np.sqrt(np.sum(np.power(a-b, 2)))\n",
        "\n",
        "def calculate_chebyshev(a, b):\n",
        "    return np.max(np.abs(a-b))\n",
        "\n",
        "def calculate_cosine(a, b):\n",
        "    def not_np_norm(v):\n",
        "        return np.sqrt(np.sum(np.power(v, 2)))\n",
        "\n",
        "    return 1 - (np.dot(a, b) / (not_np_norm(a) * not_np_norm(b)))"
      ]
    },
    {
      "cell_type": "code",
      "execution_count": 98,
      "metadata": {
        "id": "IbB3TB77uJ4q"
      },
      "outputs": [
        {
          "name": "stdout",
          "output_type": "stream",
          "text": [
            "Manhattan distance: 64.84018645023518\n",
            "Euclidean distance: 9.824477444830055\n",
            "Chebyshev distance: 3.4552382073825303\n",
            "Cosine distance: 0.8900029128776441\n"
          ]
        }
      ],
      "source": [
        "a = np.random.normal(size=69)\n",
        "b = np.random.normal(size=69)\n",
        "print(f'Manhattan distance: {calculate_manhattan(a, b)}')\n",
        "print(f'Euclidean distance: {calculate_euclidean(a, b)}')\n",
        "print(f'Chebyshev distance: {calculate_chebyshev(a, b)}')\n",
        "print(f'Cosine distance: {calculate_cosine(a, b)}')"
      ]
    },
    {
      "cell_type": "markdown",
      "metadata": {
        "id": "0inovs_suJ4q"
      },
      "source": [
        "**Task 3** (0.5 points) <br/>\n",
        "Create a random array of integers with length of 42. Transform the array so that\n",
        "* Maximum element(s) value is 10\n",
        "* Minimum element(s) value is -6\n",
        "* Other values are in interval (-6; 10) without changing the relative order (relation $\\frac{x_i}{x_{i-1}}=\\frac{\\widehat{x}_{i}}{\\widehat{x}_{i-1}}$ holds)"
      ]
    },
    {
      "cell_type": "code",
      "execution_count": 99,
      "metadata": {
        "id": "FhoGLR5CuJ4q"
      },
      "outputs": [],
      "source": [
        "def transform(a):\n",
        "    return np.interp(a, (a.min(), a.max()), (-6, 10))\n",
        "    "
      ]
    },
    {
      "cell_type": "code",
      "execution_count": 100,
      "metadata": {
        "id": "8BE5MjUMuJ4q"
      },
      "outputs": [
        {
          "name": "stdout",
          "output_type": "stream",
          "text": [
            "Min: -6.0\n",
            "Max: 10.0\n",
            "Array:\n",
            "[ 9.47931486e-01  9.73157142e-01  2.41152832e+00 -6.00000000e+00\n",
            "  5.31225294e+00  4.01776188e-03  4.66969639e+00 -3.22653432e+00\n",
            "  2.69560194e+00  2.95259384e+00  2.39794516e+00 -5.59034361e-01\n",
            "  3.69943761e+00 -9.78671692e-01  2.71422219e+00 -7.49492863e-02\n",
            "  5.59299126e+00  8.80783490e+00  2.82813258e-02  3.06376643e+00\n",
            "  6.56903599e+00  7.50775213e-01 -2.57615368e+00  1.00000000e+01\n",
            "  7.46554071e-01  4.44155363e-01  3.78032094e+00  4.88672834e+00\n",
            "  2.02753428e+00  3.91141934e+00  5.22792333e+00  4.87576273e+00\n",
            "  4.71888289e+00  3.01485677e+00  3.64733487e+00  3.46046187e+00\n",
            " -1.96687697e+00  7.66725928e-01  3.03809381e+00  1.66689605e+00\n",
            "  5.55460672e+00 -4.31149579e-01]\n"
          ]
        }
      ],
      "source": [
        "my_array = np.random.normal(size=42)\n",
        "my_array = transform(my_array)\n",
        "print(f'Min: {np.min(my_array)}')\n",
        "print(f'Max: {np.max(my_array)}')\n",
        "print('Array:')\n",
        "print(my_array)"
      ]
    },
    {
      "cell_type": "markdown",
      "metadata": {
        "id": "2uFda-U_uJ4q"
      },
      "source": [
        "**Task 4** (0.5 points) <br/>\n",
        "Create an array with shape of $10 \\times 3$ with integers from [-12, 4]. Find a column that contains the minimum element of the array."
      ]
    },
    {
      "cell_type": "code",
      "execution_count": null,
      "metadata": {
        "id": "u4QV7NVIuJ4q"
      },
      "outputs": [],
      "source": [
        "my_array = ## Your code here\n",
        "selected_column = ## Your code here\n",
        "print('Shape: ', my_array.shape)\n",
        "print('Array:')\n",
        "print(my_array)\n",
        "print(f'Selected column: {selected_column}')"
      ]
    },
    {
      "cell_type": "markdown",
      "metadata": {
        "id": "9ct8lQ4BuJ4q"
      },
      "source": [
        "**Task 5** (0.5 points) <br/>\n",
        "\n",
        "Replace all missing values in the following array with the most appropriate quantile, explain why you chose it."
      ]
    },
    {
      "cell_type": "code",
      "execution_count": 101,
      "metadata": {
        "id": "RJ-6HPUQuJ4q"
      },
      "outputs": [
        {
          "name": "stdout",
          "output_type": "stream",
          "text": [
            "Array:\n",
            "[       nan        nan 0.64736642 0.17606663        nan 0.55668049\n",
            " 0.0410608  0.43921609 0.58057824 0.16297956]\n"
          ]
        }
      ],
      "source": [
        "arr = np.random.rand(10)\n",
        "idx = np.random.randint(0, 10, 4)\n",
        "arr[idx] = np.nan\n",
        "\n",
        "print('Array:')\n",
        "print(arr)"
      ]
    },
    {
      "cell_type": "code",
      "execution_count": 104,
      "metadata": {
        "id": "wZV63ohyuJ4q"
      },
      "outputs": [],
      "source": [
        "def replace_missing(arr):\n",
        "    q = np.nanquantile(arr, 0.5)\n",
        "    return np.nan_to_num(arr, nan=q)"
      ]
    },
    {
      "cell_type": "code",
      "execution_count": 105,
      "metadata": {
        "id": "_hG2tbcPuJ4q"
      },
      "outputs": [
        {
          "name": "stdout",
          "output_type": "stream",
          "text": [
            "Array with no missing values:\n",
            "[0.43921609 0.43921609 0.64736642 0.17606663 0.43921609 0.55668049\n",
            " 0.0410608  0.43921609 0.58057824 0.16297956]\n"
          ]
        }
      ],
      "source": [
        "arr = replace_missing(arr)\n",
        "print('Array with no missing values:')\n",
        "print(arr)"
      ]
    },
    {
      "cell_type": "markdown",
      "metadata": {
        "id": "eacEv4K39AAp"
      },
      "source": [
        "**Answer:** вытащить данные из ниоткуда в любом случае нельзя, взять квантиль 1/2 чтобы получить данные близкие к уже существующим - единственный вменяемый вариант, кмк"
      ]
    },
    {
      "cell_type": "markdown",
      "metadata": {
        "id": "HX2x-qUEuJ4q"
      },
      "source": [
        "**Task 6** (0.5 points) <br/>\n",
        "Create a function which takes an image ```X``` (3D array of the shape (n, m, 3)) as an input and returns the median and std for every channel (you should get a vector of shape 3, RGB)."
      ]
    },
    {
      "cell_type": "code",
      "execution_count": 110,
      "metadata": {
        "id": "pbdP4x4AuJ4q"
      },
      "outputs": [],
      "source": [
        "def stats_channel(X):\n",
        "    return np.array([np.median(X[:, :, 0]), np.median(X[:, :, 1]), np.median(X[:, :, 2])]), np.array([np.std(X[:, :, 0]), np.std(X[:, :, 1]), np.std(X[:, :, 2])])\n",
        "    "
      ]
    },
    {
      "cell_type": "code",
      "execution_count": 111,
      "metadata": {
        "id": "hucX0ybWuJ4q"
      },
      "outputs": [
        {
          "name": "stdout",
          "output_type": "stream",
          "text": [
            "(array([-2., -3., -2.]), array([5.67601398, 5.62374939, 5.45398463]))\n"
          ]
        }
      ],
      "source": [
        "n = 19\n",
        "m = 23\n",
        "X = np.random.randint(-11, 8, size=(n, m, 3))\n",
        "print(stats_channel(X))"
      ]
    },
    {
      "cell_type": "markdown",
      "metadata": {
        "id": "0Pg2nDCxuJ4q"
      },
      "source": [
        "### **Task 7** (1 points) <br/>\n",
        "Create a function which takes a 3D matrix ```X``` as an input and returns all its unique values along the first axis.\n",
        "\n",
        "Sample input:\n",
        "\n",
        "```\n",
        "np.array(\n",
        "  [[[1, 2, 3],\n",
        "    [1, 2, 3],\n",
        "    [1, 2, 3]],\n",
        "\n",
        "   [[4, 5, 6],\n",
        "    [4, 5, 7],\n",
        "    [4, 5, 6]],\n",
        "\n",
        "   [[7, 8, 9],\n",
        "    [7, 8, 9],\n",
        "    [7, 8, 9]]]\n",
        ")\n",
        "```\n",
        "  \n",
        "Sample output:\n",
        "\n",
        "```\n",
        "np.array(\n",
        "  [[[1, 2, 3],\n",
        "    [1, 2, 3]],\n",
        "\n",
        "   [[4, 5, 6],\n",
        "    [4, 5, 7]],\n",
        "\n",
        "   [[7, 8, 9],\n",
        "    [7, 8, 9]]]\n",
        ")\n",
        "```"
      ]
    },
    {
      "cell_type": "code",
      "execution_count": 172,
      "metadata": {
        "id": "YdsrT0G8uJ4q"
      },
      "outputs": [],
      "source": [
        "def get_unique_values(X):\n",
        "    return np.unique(X, axis=1)"
      ]
    },
    {
      "cell_type": "code",
      "execution_count": 173,
      "metadata": {
        "id": "UNvyiySzuJ4q"
      },
      "outputs": [
        {
          "name": "stdout",
          "output_type": "stream",
          "text": [
            "Matrix:\n",
            "[[[4 5 5]\n",
            "  [5 4 5]\n",
            "  [4 5 4]]\n",
            "\n",
            " [[5 5 5]\n",
            "  [5 5 5]\n",
            "  [5 5 4]]\n",
            "\n",
            " [[4 4 5]\n",
            "  [5 5 5]\n",
            "  [5 5 4]]]\n",
            "Unique :\n"
          ]
        },
        {
          "data": {
            "text/plain": [
              "array([[[4, 5, 4],\n",
              "        [4, 5, 5],\n",
              "        [5, 4, 5]],\n",
              "\n",
              "       [[5, 5, 4],\n",
              "        [5, 5, 5],\n",
              "        [5, 5, 5]],\n",
              "\n",
              "       [[5, 5, 4],\n",
              "        [4, 4, 5],\n",
              "        [5, 5, 5]]])"
            ]
          },
          "execution_count": 173,
          "metadata": {},
          "output_type": "execute_result"
        }
      ],
      "source": [
        "X =  np.random.randint(4, 6, size=(3, 3, 3))\n",
        "print('Matrix:')\n",
        "print(X)\n",
        "print('Unique :')\n",
        "get_unique_values(X)"
      ]
    },
    {
      "cell_type": "markdown",
      "metadata": {
        "id": "W135mraVuJ4r"
      },
      "source": [
        "# 3. Pandas & Visualization (4 points)\n"
      ]
    },
    {
      "cell_type": "markdown",
      "metadata": {
        "id": "_UfaIXGcuJ4r"
      },
      "source": [
        "You are going to work with *Titanic* dataset which contains information about passengers of Titanic:\n",
        "- **Survived** - 1 - survived, 0 - died (0); **Target variable**\n",
        "- **pclass** - passengers's class;\n",
        "- **sex** - passengers's sex\n",
        "- **Age** - passengers's age in years\n",
        "- **sibsp**    - is the passenger someones siblings   \n",
        "- **parch**    - is the passenger someones child or parent\n",
        "- **ticket** - ticket number    \n",
        "- **fare** - ticket price    \n",
        "- **cabin** - cabin number\n",
        "- **embarked** - port of Embarkation; C = Cherbourg, Q = Queenstown, S = Southampton\n",
        "\n",
        "**Note** for all visualizations use matplotlib or seaborn but NOT plotly! Plotly's graphics sometimes vanish after saving. In this case the task won't be graded.\n",
        "\n",
        "**Note** support all your answers with necessary code, computations, vizualization, and explanation. Answers without code and explanation won't be graded.\n",
        "\n",
        "**Task 0** (0 points) \\\n",
        "Load the dataset and print first 6 rows"
      ]
    },
    {
      "cell_type": "code",
      "execution_count": 181,
      "metadata": {
        "id": "92IDku0HuJ4r"
      },
      "outputs": [
        {
          "data": {
            "text/html": [
              "<div>\n",
              "<style scoped>\n",
              "    .dataframe tbody tr th:only-of-type {\n",
              "        vertical-align: middle;\n",
              "    }\n",
              "\n",
              "    .dataframe tbody tr th {\n",
              "        vertical-align: top;\n",
              "    }\n",
              "\n",
              "    .dataframe thead th {\n",
              "        text-align: right;\n",
              "    }\n",
              "</style>\n",
              "<table border=\"1\" class=\"dataframe\">\n",
              "  <thead>\n",
              "    <tr style=\"text-align: right;\">\n",
              "      <th></th>\n",
              "      <th>PassengerId</th>\n",
              "      <th>Survived</th>\n",
              "      <th>Pclass</th>\n",
              "      <th>Name</th>\n",
              "      <th>Sex</th>\n",
              "      <th>Age</th>\n",
              "      <th>SibSp</th>\n",
              "      <th>Parch</th>\n",
              "      <th>Ticket</th>\n",
              "      <th>Fare</th>\n",
              "      <th>Cabin</th>\n",
              "      <th>Embarked</th>\n",
              "    </tr>\n",
              "  </thead>\n",
              "  <tbody>\n",
              "    <tr>\n",
              "      <th>0</th>\n",
              "      <td>1</td>\n",
              "      <td>0</td>\n",
              "      <td>3</td>\n",
              "      <td>Braund, Mr. Owen Harris</td>\n",
              "      <td>male</td>\n",
              "      <td>22.0</td>\n",
              "      <td>1</td>\n",
              "      <td>0</td>\n",
              "      <td>A/5 21171</td>\n",
              "      <td>7.2500</td>\n",
              "      <td>NaN</td>\n",
              "      <td>S</td>\n",
              "    </tr>\n",
              "    <tr>\n",
              "      <th>1</th>\n",
              "      <td>2</td>\n",
              "      <td>1</td>\n",
              "      <td>1</td>\n",
              "      <td>Cumings, Mrs. John Bradley (Florence Briggs Th...</td>\n",
              "      <td>female</td>\n",
              "      <td>38.0</td>\n",
              "      <td>1</td>\n",
              "      <td>0</td>\n",
              "      <td>PC 17599</td>\n",
              "      <td>71.2833</td>\n",
              "      <td>C85</td>\n",
              "      <td>C</td>\n",
              "    </tr>\n",
              "    <tr>\n",
              "      <th>2</th>\n",
              "      <td>3</td>\n",
              "      <td>1</td>\n",
              "      <td>3</td>\n",
              "      <td>Heikkinen, Miss. Laina</td>\n",
              "      <td>female</td>\n",
              "      <td>26.0</td>\n",
              "      <td>0</td>\n",
              "      <td>0</td>\n",
              "      <td>STON/O2. 3101282</td>\n",
              "      <td>7.9250</td>\n",
              "      <td>NaN</td>\n",
              "      <td>S</td>\n",
              "    </tr>\n",
              "    <tr>\n",
              "      <th>3</th>\n",
              "      <td>4</td>\n",
              "      <td>1</td>\n",
              "      <td>1</td>\n",
              "      <td>Futrelle, Mrs. Jacques Heath (Lily May Peel)</td>\n",
              "      <td>female</td>\n",
              "      <td>35.0</td>\n",
              "      <td>1</td>\n",
              "      <td>0</td>\n",
              "      <td>113803</td>\n",
              "      <td>53.1000</td>\n",
              "      <td>C123</td>\n",
              "      <td>S</td>\n",
              "    </tr>\n",
              "    <tr>\n",
              "      <th>4</th>\n",
              "      <td>5</td>\n",
              "      <td>0</td>\n",
              "      <td>3</td>\n",
              "      <td>Allen, Mr. William Henry</td>\n",
              "      <td>male</td>\n",
              "      <td>35.0</td>\n",
              "      <td>0</td>\n",
              "      <td>0</td>\n",
              "      <td>373450</td>\n",
              "      <td>8.0500</td>\n",
              "      <td>NaN</td>\n",
              "      <td>S</td>\n",
              "    </tr>\n",
              "    <tr>\n",
              "      <th>5</th>\n",
              "      <td>6</td>\n",
              "      <td>0</td>\n",
              "      <td>3</td>\n",
              "      <td>Moran, Mr. James</td>\n",
              "      <td>male</td>\n",
              "      <td>NaN</td>\n",
              "      <td>0</td>\n",
              "      <td>0</td>\n",
              "      <td>330877</td>\n",
              "      <td>8.4583</td>\n",
              "      <td>NaN</td>\n",
              "      <td>Q</td>\n",
              "    </tr>\n",
              "  </tbody>\n",
              "</table>\n",
              "</div>"
            ],
            "text/plain": [
              "   PassengerId  Survived  Pclass  \\\n",
              "0            1         0       3   \n",
              "1            2         1       1   \n",
              "2            3         1       3   \n",
              "3            4         1       1   \n",
              "4            5         0       3   \n",
              "5            6         0       3   \n",
              "\n",
              "                                                Name     Sex   Age  SibSp  \\\n",
              "0                            Braund, Mr. Owen Harris    male  22.0      1   \n",
              "1  Cumings, Mrs. John Bradley (Florence Briggs Th...  female  38.0      1   \n",
              "2                             Heikkinen, Miss. Laina  female  26.0      0   \n",
              "3       Futrelle, Mrs. Jacques Heath (Lily May Peel)  female  35.0      1   \n",
              "4                           Allen, Mr. William Henry    male  35.0      0   \n",
              "5                                   Moran, Mr. James    male   NaN      0   \n",
              "\n",
              "   Parch            Ticket     Fare Cabin Embarked  \n",
              "0      0         A/5 21171   7.2500   NaN        S  \n",
              "1      0          PC 17599  71.2833   C85        C  \n",
              "2      0  STON/O2. 3101282   7.9250   NaN        S  \n",
              "3      0            113803  53.1000  C123        S  \n",
              "4      0            373450   8.0500   NaN        S  \n",
              "5      0            330877   8.4583   NaN        Q  "
            ]
          },
          "execution_count": 181,
          "metadata": {},
          "output_type": "execute_result"
        }
      ],
      "source": [
        "dataset =  pd.read_csv(\"titanic.csv\")\n",
        "dataset.head(n=6)"
      ]
    },
    {
      "cell_type": "markdown",
      "metadata": {
        "id": "0FeAHgZtuJ4r"
      },
      "source": [
        "**Task 1** (1 points) <br/>\n",
        "Answer the following questions:\n",
        "    \n",
        "    * Are there any missing values? In what columns?\n",
        "    * What is the percentage of survived passengers? Are the classes balanced?\n",
        "    * Were there more males or females?\n",
        "    * What what the least popular port of embarkation?\n",
        "    * How many passenger classes (pclass) were there on Tinanic?\n",
        "    * What is the overall average ticket fare? And for every passenger class?\n",
        "Please, write not only the answers but the code, proving it."
      ]
    },
    {
      "cell_type": "code",
      "execution_count": 183,
      "metadata": {
        "id": "4PizO86UuJ4r"
      },
      "outputs": [
        {
          "data": {
            "text/plain": [
              "PassengerId      0\n",
              "Survived         0\n",
              "Pclass           0\n",
              "Name             0\n",
              "Sex              0\n",
              "Age            177\n",
              "SibSp            0\n",
              "Parch            0\n",
              "Ticket           0\n",
              "Fare             0\n",
              "Cabin          687\n",
              "Embarked         2\n",
              "dtype: int64"
            ]
          },
          "execution_count": 183,
          "metadata": {},
          "output_type": "execute_result"
        }
      ],
      "source": [
        "dataset.isnull().sum() # Missing values regarding Age, Cabin and Embarking point"
      ]
    },
    {
      "cell_type": "code",
      "execution_count": 194,
      "metadata": {},
      "outputs": [
        {
          "data": {
            "text/plain": [
              "38.38383838383838"
            ]
          },
          "execution_count": 194,
          "metadata": {},
          "output_type": "execute_result"
        }
      ],
      "source": [
        "len(dataset.loc[dataset[\"Survived\"] == 1]) / len(dataset) * 100 # 1/3 survived => not balanced"
      ]
    },
    {
      "cell_type": "code",
      "execution_count": 196,
      "metadata": {},
      "outputs": [
        {
          "name": "stdout",
          "output_type": "stream",
          "text": [
            "Males: 577\n",
            "Females: 314\n"
          ]
        }
      ],
      "source": [
        "print(f\"Males: {len(dataset.loc[dataset['Sex'] == 'male'])}\")\n",
        "print(f\"Females: {len(dataset.loc[dataset['Sex'] == 'female'])}\")"
      ]
    },
    {
      "cell_type": "code",
      "execution_count": 198,
      "metadata": {},
      "outputs": [
        {
          "data": {
            "text/plain": [
              "Embarked\n",
              "S    644\n",
              "C    168\n",
              "Q     77\n",
              "Name: count, dtype: int64"
            ]
          },
          "execution_count": 198,
          "metadata": {},
          "output_type": "execute_result"
        }
      ],
      "source": [
        "dataset[\"Embarked\"].value_counts() # => Q"
      ]
    },
    {
      "cell_type": "code",
      "execution_count": 202,
      "metadata": {},
      "outputs": [
        {
          "data": {
            "text/plain": [
              "3"
            ]
          },
          "execution_count": 202,
          "metadata": {},
          "output_type": "execute_result"
        }
      ],
      "source": [
        "len(dataset[\"Pclass\"].unique())"
      ]
    },
    {
      "cell_type": "code",
      "execution_count": 207,
      "metadata": {},
      "outputs": [
        {
          "name": "stdout",
          "output_type": "stream",
          "text": [
            "General mean: 32.204207968574636\n",
            "1 mean: 84.1546875\n",
            "2 mean: 20.662183152173913\n",
            "3 mean: 13.675550101832993\n"
          ]
        }
      ],
      "source": [
        "print(f\"General mean: {dataset['Fare'].mean()}\")\n",
        "\n",
        "for pclass in np.sort(dataset[\"Pclass\"].unique()):\n",
        "    print(f\"{pclass} mean: {dataset.loc[dataset['Pclass'] == pclass]['Fare'].mean()}\")"
      ]
    },
    {
      "cell_type": "markdown",
      "metadata": {
        "id": "s9bfz5KbuJ4r"
      },
      "source": [
        "**Task 2** (0.5 points) <br/>\n",
        "Visualize age distribution (you may use a histogram, for example).\n",
        "\n",
        "    * What is the minimal and maximum ages of the passengers? Visualize it on the plot\n",
        "    * What is the median age? And among males and females separately? Visualize it on the separate plot\n",
        "    * Make conclusions about what you see on the plots"
      ]
    },
    {
      "cell_type": "code",
      "execution_count": 210,
      "metadata": {
        "id": "q19UF2SHuJ41"
      },
      "outputs": [
        {
          "data": {
            "image/png": "[encoded data removed]",
            "text/plain": [
              "<Figure size 640x480 with 1 Axes>"
            ]
          },
          "metadata": {},
          "output_type": "display_data"
        }
      ],
      "source": [
        "x = [\"male_min\", \"male_max\", \"female_min\", \"female_max\"]\n",
        "y = [dataset.loc[dataset[\"Sex\"] == \"male\"][\"Age\"].min(), dataset.loc[dataset[\"Sex\"] == \"male\"][\"Age\"].max(), dataset.loc[dataset[\"Sex\"] == \"female\"][\"Age\"].min(), dataset.loc[dataset[\"Sex\"] == \"female\"][\"Age\"].max()]\n",
        "\n",
        "fig, ax = plt.subplots()\n",
        "\n",
        "ax.bar(x, y, width=1, edgecolor=\"white\", linewidth=0.7)\n",
        "\n",
        "plt.show()"
      ]
    },
    {
      "cell_type": "code",
      "execution_count": 211,
      "metadata": {},
      "outputs": [
        {
          "data": {
            "image/png": "[encoded data removed]",
            "text/plain": [
              "<Figure size 640x480 with 1 Axes>"
            ]
          },
          "metadata": {},
          "output_type": "display_data"
        }
      ],
      "source": [
        "x = [\"male_median\", \"female_median\", \"general_median\"]\n",
        "y = [dataset.loc[dataset[\"Sex\"] == \"male\"][\"Age\"].median(), dataset.loc[dataset[\"Sex\"] == \"female\"][\"Age\"].median(), dataset[\"Age\"].median()]\n",
        "\n",
        "fig, ax = plt.subplots()\n",
        "\n",
        "ax.bar(x, y, width=1, edgecolor=\"white\", linewidth=0.7)\n",
        "\n",
        "plt.show()"
      ]
    },
    {
      "cell_type": "markdown",
      "metadata": {
        "id": "ye6WohwXuJ41"
      },
      "source": [
        "**Task 3** (1 points) <br/>\n",
        "Find all the titles of the passengers (example, *Capt., Mr.,Mme.*), which are written in the column Name, and answer the following questions:\n",
        "\n",
        "    * How many are there unique titles?\n",
        "    * How many are there passengers with every title?\n",
        "    * What is the most popular man's title? And woman's title?\n",
        "    \n",
        "**Hint** You may select the title from the name as a word which contains a dot and is not middle name."
      ]
    },
    {
      "cell_type": "code",
      "execution_count": 216,
      "metadata": {
        "id": "LDBIRnGXuJ41"
      },
      "outputs": [
        {
          "name": "stdout",
          "output_type": "stream",
          "text": [
            "['Mr.' 'Mrs.' 'Miss.' 'Master.' 'Don.' 'Rev.' 'Dr.' 'Mme.' 'Ms.' 'Major.'\n",
            " 'Lady.' 'Sir.' 'Mlle.' 'Col.' 'Capt.' 'Countess.' 'Jonkheer.']\n",
            "17\n",
            "891\n"
          ]
        }
      ],
      "source": [
        "def extract_title(name):\n",
        "    name = name.split()\n",
        "\n",
        "    for piece in name:\n",
        "        if piece.endswith(\".\"):\n",
        "            return piece\n",
        "\n",
        "    return np.nan\n",
        "\n",
        "dataset[\"Title\"] = dataset[\"Name\"].apply(extract_title)"
      ]
    },
    {
      "cell_type": "code",
      "execution_count": 217,
      "metadata": {},
      "outputs": [
        {
          "name": "stdout",
          "output_type": "stream",
          "text": [
            "['Mr.' 'Mrs.' 'Miss.' 'Master.' 'Don.' 'Rev.' 'Dr.' 'Mme.' 'Ms.' 'Major.'\n",
            " 'Lady.' 'Sir.' 'Mlle.' 'Col.' 'Capt.' 'Countess.' 'Jonkheer.']\n",
            "17\n",
            "Title\n",
            "Mr.          517\n",
            "Miss.        182\n",
            "Mrs.         125\n",
            "Master.       40\n",
            "Dr.            7\n",
            "Rev.           6\n",
            "Mlle.          2\n",
            "Major.         2\n",
            "Col.           2\n",
            "Countess.      1\n",
            "Capt.          1\n",
            "Ms.            1\n",
            "Sir.           1\n",
            "Lady.          1\n",
            "Mme.           1\n",
            "Don.           1\n",
            "Jonkheer.      1\n",
            "Name: count, dtype: int64\n"
          ]
        }
      ],
      "source": [
        "print(dataset[\"Title\"].unique())\n",
        "print(len(dataset[\"Title\"].unique()))\n",
        "print(dataset[\"Title\"].value_counts())"
      ]
    },
    {
      "cell_type": "code",
      "execution_count": 220,
      "metadata": {},
      "outputs": [
        {
          "name": "stdout",
          "output_type": "stream",
          "text": [
            "Woman's most popular title: Miss.\n",
            "Man's most popular title: Mr.\n"
          ]
        }
      ],
      "source": [
        "print(f\"Woman's most popular title: {dataset.loc[dataset['Sex'] == 'female']['Title'].value_counts().idxmax()}\")\n",
        "print(f\"Man's most popular title: {dataset.loc[dataset['Sex'] == 'male']['Title'].value_counts().idxmax()}\")"
      ]
    },
    {
      "cell_type": "markdown",
      "metadata": {
        "id": "n0RsqbTPuJ41"
      },
      "source": [
        "**Task 4** (0.5 points) <br/>\n",
        "Is there correlation between *pclass* and *ticket price*? Calculate mean price for each class and visualize price distribution for each class as well. Make conclusions about what you see on the plot\n",
        "\n",
        "Hint: you could make one or several plot types i.e.  box, violine, pair, histogram (see additional notebooks for Seminar 1 \"Visualization with Seaborn\"). Main point here is to **choose** plots wisely and **make meaningful conclusions**\n",
        "\n"
      ]
    },
    {
      "cell_type": "code",
      "execution_count": 223,
      "metadata": {
        "id": "fkvVvnHPuJ41"
      },
      "outputs": [
        {
          "data": {
            "text/plain": [
              "<BarContainer object of 3 artists>"
            ]
          },
          "execution_count": 223,
          "metadata": {},
          "output_type": "execute_result"
        },
        {
          "data": {
            "image/png": "[encoded data removed]",
            "text/plain": [
              "<Figure size 640x480 with 1 Axes>"
            ]
          },
          "metadata": {},
          "output_type": "display_data"
        }
      ],
      "source": [
        "fig, ax = plt.subplots()\n",
        "pclasses = np.sort(dataset[\"Pclass\"].unique())\n",
        "\n",
        "ax.set_title(\"Median prices per fare\")\n",
        "ax.set_xticks(pclasses)\n",
        "ax.bar(pclasses, [dataset.loc[dataset['Pclass'] == pclass]['Fare'].mean() for pclass in pclasses])"
      ]
    },
    {
      "cell_type": "code",
      "execution_count": 227,
      "metadata": {},
      "outputs": [
        {
          "data": {
            "text/plain": [
              "{'whiskers': [<matplotlib.lines.Line2D at 0x7f3755df4640>,\n",
              "  <matplotlib.lines.Line2D at 0x7f3755df5840>,\n",
              "  <matplotlib.lines.Line2D at 0x7f3755df66b0>,\n",
              "  <matplotlib.lines.Line2D at 0x7f3755df6950>,\n",
              "  <matplotlib.lines.Line2D at 0x7f3755df77f0>,\n",
              "  <matplotlib.lines.Line2D at 0x7f3755df7a90>],\n",
              " 'caps': [<matplotlib.lines.Line2D at 0x7f3755df5ae0>,\n",
              "  <matplotlib.lines.Line2D at 0x7f3755df5d80>,\n",
              "  <matplotlib.lines.Line2D at 0x7f3755df6bf0>,\n",
              "  <matplotlib.lines.Line2D at 0x7f3755df6d70>,\n",
              "  <matplotlib.lines.Line2D at 0x7f3755df7d30>,\n",
              "  <matplotlib.lines.Line2D at 0x7f3755df7fd0>],\n",
              " 'boxes': [<matplotlib.lines.Line2D at 0x7f3755df5690>,\n",
              "  <matplotlib.lines.Line2D at 0x7f3755df6410>,\n",
              "  <matplotlib.lines.Line2D at 0x7f3755df7550>],\n",
              " 'medians': [<matplotlib.lines.Line2D at 0x7f3755df5fc0>,\n",
              "  <matplotlib.lines.Line2D at 0x7f3755df7010>,\n",
              "  <matplotlib.lines.Line2D at 0x7f3755e242b0>],\n",
              " 'fliers': [<matplotlib.lines.Line2D at 0x7f3755df6260>,\n",
              "  <matplotlib.lines.Line2D at 0x7f3755df72b0>,\n",
              "  <matplotlib.lines.Line2D at 0x7f3755e24550>],\n",
              " 'means': []}"
            ]
          },
          "execution_count": 227,
          "metadata": {},
          "output_type": "execute_result"
        },
        {
          "data": {
            "image/png": "[encoded data removed]",
            "text/plain": [
              "<Figure size 640x480 with 1 Axes>"
            ]
          },
          "metadata": {},
          "output_type": "display_data"
        }
      ],
      "source": [
        "fig, ax = plt.subplots()\n",
        "pclasses = np.sort(dataset[\"Pclass\"].unique())\n",
        "\n",
        "ax.set_title(\"Prices distribution per fare\")\n",
        "ax.set_xticks(pclasses)\n",
        "ax.boxplot([dataset.loc[dataset['Pclass'] == pclass]['Fare'] for pclass in pclasses])"
      ]
    },
    {
      "cell_type": "markdown",
      "metadata": {},
      "source": [
        "Очевидно, билеты первого класса дороже второго, и так далее. При этом для всех классов есть аномалии (но только вверх) - возможно, какие-то билеты повышенной комфортности."
      ]
    },
    {
      "cell_type": "markdown",
      "metadata": {
        "id": "UcptRilCuJ41"
      },
      "source": [
        "**Task 5** (0.5 points) <br/>\n",
        "The same question as in task 4 about correlation between *embarked* and *ticket priсe*."
      ]
    },
    {
      "cell_type": "code",
      "execution_count": 243,
      "metadata": {
        "id": "biR9anS5uJ41"
      },
      "outputs": [
        {
          "data": {
            "text/plain": [
              "<BarContainer object of 3 artists>"
            ]
          },
          "execution_count": 243,
          "metadata": {},
          "output_type": "execute_result"
        },
        {
          "data": {
            "image/png": "[encoded data removed]",
            "text/plain": [
              "<Figure size 640x480 with 1 Axes>"
            ]
          },
          "metadata": {},
          "output_type": "display_data"
        }
      ],
      "source": [
        "fig, ax = plt.subplots()\n",
        "embarkations = dataset[\"Embarked\"].dropna().unique()\n",
        "\n",
        "ax.set_title(\"Median prices per embarkation point\")\n",
        "ax.bar(embarkations, [dataset.loc[dataset['Embarked'] == embark]['Fare'].mean() for embark in embarkations])"
      ]
    },
    {
      "cell_type": "code",
      "execution_count": 256,
      "metadata": {},
      "outputs": [
        {
          "data": {
            "text/plain": [
              "{'whiskers': [<matplotlib.lines.Line2D at 0x7f3754504c10>,\n",
              "  <matplotlib.lines.Line2D at 0x7f3754504850>,\n",
              "  <matplotlib.lines.Line2D at 0x7f37544b18a0>,\n",
              "  <matplotlib.lines.Line2D at 0x7f37544b2200>,\n",
              "  <matplotlib.lines.Line2D at 0x7f37544b09a0>,\n",
              "  <matplotlib.lines.Line2D at 0x7f37544b1270>],\n",
              " 'caps': [<matplotlib.lines.Line2D at 0x7f37544b2fb0>,\n",
              "  <matplotlib.lines.Line2D at 0x7f37545077c0>,\n",
              "  <matplotlib.lines.Line2D at 0x7f37544b20b0>,\n",
              "  <matplotlib.lines.Line2D at 0x7f37544b1b10>,\n",
              "  <matplotlib.lines.Line2D at 0x7f37544b0c70>,\n",
              "  <matplotlib.lines.Line2D at 0x7f37544b0fd0>],\n",
              " 'boxes': [<matplotlib.lines.Line2D at 0x7f3754504b80>,\n",
              "  <matplotlib.lines.Line2D at 0x7f37544b1660>,\n",
              "  <matplotlib.lines.Line2D at 0x7f37544b0730>],\n",
              " 'medians': [<matplotlib.lines.Line2D at 0x7f37544b1180>,\n",
              "  <matplotlib.lines.Line2D at 0x7f37544b1e70>,\n",
              "  <matplotlib.lines.Line2D at 0x7f37544b2c80>],\n",
              " 'fliers': [<matplotlib.lines.Line2D at 0x7f37544b3010>,\n",
              "  <matplotlib.lines.Line2D at 0x7f37544b3940>,\n",
              "  <matplotlib.lines.Line2D at 0x7f37544b2f20>],\n",
              " 'means': []}"
            ]
          },
          "execution_count": 256,
          "metadata": {},
          "output_type": "execute_result"
        },
        {
          "data": {
            "image/png": "[encoded data removed]",
            "text/plain": [
              "<Figure size 640x480 with 1 Axes>"
            ]
          },
          "metadata": {},
          "output_type": "display_data"
        }
      ],
      "source": [
        "fig, ax = plt.subplots()\n",
        "embarkations = dataset[\"Embarked\"].dropna().unique()\n",
        "\n",
        "ax.set_title(\"Prices distribution per embarkation point\")\n",
        "ax.set_xticks([1, 2, 3], embarkations)\n",
        "ax.boxplot([dataset.loc[dataset['Embarked'] == embark]['Fare'] for embark in embarkations], labels=embarkations)"
      ]
    },
    {
      "cell_type": "markdown",
      "metadata": {},
      "source": [
        "Q - самый дешевый (последняя остановка?), S и C - дороже. Аналогичная картина с расбросом цен - возможно, это просто \"поздние\" билеты, или еще что-то такое."
      ]
    },
    {
      "cell_type": "markdown",
      "metadata": {
        "id": "eeKKfMOguJ41"
      },
      "source": [
        "**Task 6** (0.5 points) <br/>\n",
        "Visualize age distribution for survived and not survived passengers separately and calculate the mean age for each class. Are they different? Provide the same visualization for males and females separately. Make conclusions about what you see on the plots"
      ]
    },
    {
      "cell_type": "code",
      "execution_count": 255,
      "metadata": {
        "id": "udmgFlQTuJ42"
      },
      "outputs": [
        {
          "data": {
            "text/plain": [
              "{'whiskers': [<matplotlib.lines.Line2D at 0x7f3755f570a0>,\n",
              "  <matplotlib.lines.Line2D at 0x7f37545492d0>,\n",
              "  <matplotlib.lines.Line2D at 0x7f3756106200>,\n",
              "  <matplotlib.lines.Line2D at 0x7f3755c70ee0>],\n",
              " 'caps': [<matplotlib.lines.Line2D at 0x7f3754549e10>,\n",
              "  <matplotlib.lines.Line2D at 0x7f3754549660>,\n",
              "  <matplotlib.lines.Line2D at 0x7f3755c71db0>,\n",
              "  <matplotlib.lines.Line2D at 0x7f3755c70430>],\n",
              " 'boxes': [<matplotlib.lines.Line2D at 0x7f375438ee30>,\n",
              "  <matplotlib.lines.Line2D at 0x7f3754548160>],\n",
              " 'medians': [<matplotlib.lines.Line2D at 0x7f37545480a0>,\n",
              "  <matplotlib.lines.Line2D at 0x7f3754d49ed0>],\n",
              " 'fliers': [<matplotlib.lines.Line2D at 0x7f3754548310>,\n",
              "  <matplotlib.lines.Line2D at 0x7f37557e3760>],\n",
              " 'means': []}"
            ]
          },
          "execution_count": 255,
          "metadata": {},
          "output_type": "execute_result"
        },
        {
          "data": {
            "image/png": "[encoded data removed]",
            "text/plain": [
              "<Figure size 640x480 with 1 Axes>"
            ]
          },
          "metadata": {},
          "output_type": "display_data"
        }
      ],
      "source": [
        "fig, ax = plt.subplots()\n",
        "survival = dataset[\"Survived\"].dropna().unique()\n",
        "\n",
        "ax.set_title(\"Survival age - men and women\")\n",
        "ax.boxplot([dataset.loc[dataset['Survived'] == s]['Age'].dropna() for s in survival], labels=survival)"
      ]
    },
    {
      "cell_type": "markdown",
      "metadata": {},
      "source": [
        "Видим, что средний возраст выжившего без привязки к полу выше чем возраст погибшего"
      ]
    },
    {
      "cell_type": "code",
      "execution_count": 263,
      "metadata": {},
      "outputs": [
        {
          "data": {
            "text/plain": [
              "{'whiskers': [<matplotlib.lines.Line2D at 0x7f3752439f60>,\n",
              "  <matplotlib.lines.Line2D at 0x7f375243a200>,\n",
              "  <matplotlib.lines.Line2D at 0x7f375243b1c0>,\n",
              "  <matplotlib.lines.Line2D at 0x7f375243b460>,\n",
              "  <matplotlib.lines.Line2D at 0x7f375246c460>,\n",
              "  <matplotlib.lines.Line2D at 0x7f375246c700>,\n",
              "  <matplotlib.lines.Line2D at 0x7f375246d6c0>,\n",
              "  <matplotlib.lines.Line2D at 0x7f375246d960>],\n",
              " 'caps': [<matplotlib.lines.Line2D at 0x7f375243a4a0>,\n",
              "  <matplotlib.lines.Line2D at 0x7f375243a740>,\n",
              "  <matplotlib.lines.Line2D at 0x7f375243b700>,\n",
              "  <matplotlib.lines.Line2D at 0x7f375243b9a0>,\n",
              "  <matplotlib.lines.Line2D at 0x7f375246c9a0>,\n",
              "  <matplotlib.lines.Line2D at 0x7f375246cc40>,\n",
              "  <matplotlib.lines.Line2D at 0x7f375246dc00>,\n",
              "  <matplotlib.lines.Line2D at 0x7f375246dea0>],\n",
              " 'boxes': [<matplotlib.lines.Line2D at 0x7f3752439cc0>,\n",
              "  <matplotlib.lines.Line2D at 0x7f375243af20>,\n",
              "  <matplotlib.lines.Line2D at 0x7f375246c1c0>,\n",
              "  <matplotlib.lines.Line2D at 0x7f375246d420>],\n",
              " 'medians': [<matplotlib.lines.Line2D at 0x7f375243a9e0>,\n",
              "  <matplotlib.lines.Line2D at 0x7f375243bc40>,\n",
              "  <matplotlib.lines.Line2D at 0x7f375246cee0>,\n",
              "  <matplotlib.lines.Line2D at 0x7f375246e140>],\n",
              " 'fliers': [<matplotlib.lines.Line2D at 0x7f375243ac80>,\n",
              "  <matplotlib.lines.Line2D at 0x7f375243bee0>,\n",
              "  <matplotlib.lines.Line2D at 0x7f375246d180>,\n",
              "  <matplotlib.lines.Line2D at 0x7f375246e3e0>],\n",
              " 'means': []}"
            ]
          },
          "execution_count": 263,
          "metadata": {},
          "output_type": "execute_result"
        },
        {
          "data": {
            "image/png": "[encoded data removed]",
            "text/plain": [
              "<Figure size 640x480 with 1 Axes>"
            ]
          },
          "metadata": {},
          "output_type": "display_data"
        }
      ],
      "source": [
        "from itertools import product\n",
        "\n",
        "fig, ax = plt.subplots()\n",
        "survival = dataset[\"Survived\"].dropna().unique()\n",
        "sex = dataset[\"Sex\"].dropna().unique()\n",
        "\n",
        "filters = list(filters)\n",
        "\n",
        "ax.set_title(\"Survival age - distinct\")\n",
        "ax.boxplot([dataset.loc[(dataset['Survived'] == su) & (dataset['Sex'] == sx)]['Age'].dropna() for su, sx in filters], labels=filters)"
      ]
    },
    {
      "cell_type": "code",
      "execution_count": null,
      "metadata": {},
      "outputs": [],
      "source": [
        "Вывод: несмотря на пониженный возраст погибших девушек, в целом каких-то отклонений по возрасту как выживших, так и погибших нет."
      ]
    }
  ],
  "metadata": {
    "colab": {
      "provenance": []
    },
    "kernelspec": {
      "display_name": "Python 3 (ipykernel)",
      "language": "python",
      "name": "python3"
    },
    "language_info": {
      "codemirror_mode": {
        "name": "ipython",
        "version": 3
      },
      "file_extension": ".py",
      "mimetype": "text/x-python",
      "name": "python",
      "nbconvert_exporter": "python",
      "pygments_lexer": "ipython3",
      "version": "3.10.12"
    }
  },
  "nbformat": 4,
  "nbformat_minor": 0
}
